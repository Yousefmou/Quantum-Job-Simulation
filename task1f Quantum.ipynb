{
 "cells": [
  {
   "cell_type": "markdown",
   "id": "0071bca1",
   "metadata": {},
   "source": [
    "# task1\n",
    "## Overview: A client is opening a new store and wants a customer segmentation to target a specific segment\n",
    "## Objective: Find the highest spending segments and the reason behind it, choose a suitable segment to dive deeper into and provide deep insights regarding this segment"
   ]
  },
  {
   "cell_type": "markdown",
   "id": "3cda6c7e",
   "metadata": {},
   "source": [
    "### Importing Important libraries"
   ]
  },
  {
   "cell_type": "code",
   "execution_count": 6,
   "id": "22c6c959",
   "metadata": {},
   "outputs": [],
   "source": [
    "import pandas as pd\n",
    "import numpy as np\n",
    "from matplotlib import pyplot as plt\n",
    "import seaborn as sns\n",
    "import warnings\n",
    "warnings.filterwarnings(\"ignore\")"
   ]
  },
  {
   "cell_type": "markdown",
   "id": "07685f8d",
   "metadata": {},
   "source": [
    "### Data Importing"
   ]
  },
  {
   "cell_type": "code",
   "execution_count": 7,
   "id": "8c1334df",
   "metadata": {},
   "outputs": [],
   "source": [
    "transactions=pd.read_excel('QVI_transaction_data.xlsx')\n",
    "Purchase=pd.read_csv('QVI_purchase_behaviour.csv')"
   ]
  },
  {
   "cell_type": "markdown",
   "id": "1c403658",
   "metadata": {},
   "source": [
    "### Data Exploration\n",
    "#### Purchase Dataset"
   ]
  },
  {
   "cell_type": "code",
   "execution_count": 8,
   "id": "03e307e9",
   "metadata": {},
   "outputs": [
    {
     "data": {
      "text/html": [
       "<div>\n",
       "<style scoped>\n",
       "    .dataframe tbody tr th:only-of-type {\n",
       "        vertical-align: middle;\n",
       "    }\n",
       "\n",
       "    .dataframe tbody tr th {\n",
       "        vertical-align: top;\n",
       "    }\n",
       "\n",
       "    .dataframe thead th {\n",
       "        text-align: right;\n",
       "    }\n",
       "</style>\n",
       "<table border=\"1\" class=\"dataframe\">\n",
       "  <thead>\n",
       "    <tr style=\"text-align: right;\">\n",
       "      <th></th>\n",
       "      <th>LYLTY_CARD_NBR</th>\n",
       "      <th>LIFESTAGE</th>\n",
       "      <th>PREMIUM_CUSTOMER</th>\n",
       "    </tr>\n",
       "  </thead>\n",
       "  <tbody>\n",
       "    <tr>\n",
       "      <th>0</th>\n",
       "      <td>1000</td>\n",
       "      <td>YOUNG SINGLES/COUPLES</td>\n",
       "      <td>Premium</td>\n",
       "    </tr>\n",
       "    <tr>\n",
       "      <th>1</th>\n",
       "      <td>1002</td>\n",
       "      <td>YOUNG SINGLES/COUPLES</td>\n",
       "      <td>Mainstream</td>\n",
       "    </tr>\n",
       "    <tr>\n",
       "      <th>2</th>\n",
       "      <td>1003</td>\n",
       "      <td>YOUNG FAMILIES</td>\n",
       "      <td>Budget</td>\n",
       "    </tr>\n",
       "    <tr>\n",
       "      <th>3</th>\n",
       "      <td>1004</td>\n",
       "      <td>OLDER SINGLES/COUPLES</td>\n",
       "      <td>Mainstream</td>\n",
       "    </tr>\n",
       "    <tr>\n",
       "      <th>4</th>\n",
       "      <td>1005</td>\n",
       "      <td>MIDAGE SINGLES/COUPLES</td>\n",
       "      <td>Mainstream</td>\n",
       "    </tr>\n",
       "  </tbody>\n",
       "</table>\n",
       "</div>"
      ],
      "text/plain": [
       "   LYLTY_CARD_NBR               LIFESTAGE PREMIUM_CUSTOMER\n",
       "0            1000   YOUNG SINGLES/COUPLES          Premium\n",
       "1            1002   YOUNG SINGLES/COUPLES       Mainstream\n",
       "2            1003          YOUNG FAMILIES           Budget\n",
       "3            1004   OLDER SINGLES/COUPLES       Mainstream\n",
       "4            1005  MIDAGE SINGLES/COUPLES       Mainstream"
      ]
     },
     "execution_count": 8,
     "metadata": {},
     "output_type": "execute_result"
    }
   ],
   "source": [
    "Purchase.head()"
   ]
  },
  {
   "cell_type": "code",
   "execution_count": 9,
   "id": "8fcb2523",
   "metadata": {},
   "outputs": [
    {
     "data": {
      "text/plain": [
       "(72637, 3)"
      ]
     },
     "execution_count": 9,
     "metadata": {},
     "output_type": "execute_result"
    }
   ],
   "source": [
    "Purchase.shape"
   ]
  },
  {
   "cell_type": "code",
   "execution_count": 10,
   "id": "fd224f71",
   "metadata": {},
   "outputs": [
    {
     "name": "stdout",
     "output_type": "stream",
     "text": [
      "['YOUNG SINGLES/COUPLES' 'YOUNG FAMILIES' 'OLDER SINGLES/COUPLES'\n",
      " 'MIDAGE SINGLES/COUPLES' 'NEW FAMILIES' 'OLDER FAMILIES' 'RETIREES']\n"
     ]
    },
    {
     "data": {
      "text/plain": [
       "7"
      ]
     },
     "execution_count": 10,
     "metadata": {},
     "output_type": "execute_result"
    }
   ],
   "source": [
    "print(Purchase['LIFESTAGE'].unique())\n",
    "Purchase['LIFESTAGE'].nunique()"
   ]
  },
  {
   "cell_type": "code",
   "execution_count": 11,
   "id": "9da66c7e",
   "metadata": {},
   "outputs": [
    {
     "data": {
      "text/plain": [
       "RETIREES                  14805\n",
       "OLDER SINGLES/COUPLES     14609\n",
       "YOUNG SINGLES/COUPLES     14441\n",
       "OLDER FAMILIES             9780\n",
       "YOUNG FAMILIES             9178\n",
       "MIDAGE SINGLES/COUPLES     7275\n",
       "NEW FAMILIES               2549\n",
       "Name: LIFESTAGE, dtype: int64"
      ]
     },
     "execution_count": 11,
     "metadata": {},
     "output_type": "execute_result"
    }
   ],
   "source": [
    "Purchase['LIFESTAGE'].value_counts()"
   ]
  },
  {
   "cell_type": "code",
   "execution_count": 12,
   "id": "d773dddf",
   "metadata": {},
   "outputs": [
    {
     "name": "stdout",
     "output_type": "stream",
     "text": [
      "['Premium' 'Mainstream' 'Budget']\n"
     ]
    },
    {
     "data": {
      "text/plain": [
       "3"
      ]
     },
     "execution_count": 12,
     "metadata": {},
     "output_type": "execute_result"
    }
   ],
   "source": [
    "print(Purchase['PREMIUM_CUSTOMER'].unique())\n",
    "Purchase['PREMIUM_CUSTOMER'].nunique()"
   ]
  },
  {
   "cell_type": "code",
   "execution_count": 13,
   "id": "7b7df59a",
   "metadata": {},
   "outputs": [
    {
     "data": {
      "text/plain": [
       "Mainstream    29245\n",
       "Budget        24470\n",
       "Premium       18922\n",
       "Name: PREMIUM_CUSTOMER, dtype: int64"
      ]
     },
     "execution_count": 13,
     "metadata": {},
     "output_type": "execute_result"
    }
   ],
   "source": [
    "Purchase['PREMIUM_CUSTOMER'].value_counts()"
   ]
  },
  {
   "cell_type": "code",
   "execution_count": 14,
   "id": "fa0bb31e",
   "metadata": {},
   "outputs": [
    {
     "name": "stdout",
     "output_type": "stream",
     "text": [
      "<class 'pandas.core.frame.DataFrame'>\n",
      "RangeIndex: 72637 entries, 0 to 72636\n",
      "Data columns (total 3 columns):\n",
      " #   Column            Non-Null Count  Dtype \n",
      "---  ------            --------------  ----- \n",
      " 0   LYLTY_CARD_NBR    72637 non-null  int64 \n",
      " 1   LIFESTAGE         72637 non-null  object\n",
      " 2   PREMIUM_CUSTOMER  72637 non-null  object\n",
      "dtypes: int64(1), object(2)\n",
      "memory usage: 1.7+ MB\n"
     ]
    }
   ],
   "source": [
    "Purchase.info()"
   ]
  },
  {
   "cell_type": "code",
   "execution_count": 15,
   "id": "8f8b92ad",
   "metadata": {},
   "outputs": [
    {
     "data": {
      "text/plain": [
       "True"
      ]
     },
     "execution_count": 15,
     "metadata": {},
     "output_type": "execute_result"
    }
   ],
   "source": [
    "#Check if lylty card number values are unique\n",
    "Purchase['LYLTY_CARD_NBR'].nunique() == Purchase.shape[0]"
   ]
  },
  {
   "cell_type": "markdown",
   "id": "4935ff79",
   "metadata": {},
   "source": [
    "### Transactions dataset"
   ]
  },
  {
   "cell_type": "code",
   "execution_count": 16,
   "id": "49a4e057",
   "metadata": {},
   "outputs": [
    {
     "data": {
      "text/html": [
       "<div>\n",
       "<style scoped>\n",
       "    .dataframe tbody tr th:only-of-type {\n",
       "        vertical-align: middle;\n",
       "    }\n",
       "\n",
       "    .dataframe tbody tr th {\n",
       "        vertical-align: top;\n",
       "    }\n",
       "\n",
       "    .dataframe thead th {\n",
       "        text-align: right;\n",
       "    }\n",
       "</style>\n",
       "<table border=\"1\" class=\"dataframe\">\n",
       "  <thead>\n",
       "    <tr style=\"text-align: right;\">\n",
       "      <th></th>\n",
       "      <th>DATE</th>\n",
       "      <th>STORE_NBR</th>\n",
       "      <th>LYLTY_CARD_NBR</th>\n",
       "      <th>TXN_ID</th>\n",
       "      <th>PROD_NBR</th>\n",
       "      <th>PROD_NAME</th>\n",
       "      <th>PROD_QTY</th>\n",
       "      <th>TOT_SALES</th>\n",
       "    </tr>\n",
       "  </thead>\n",
       "  <tbody>\n",
       "    <tr>\n",
       "      <th>0</th>\n",
       "      <td>43390</td>\n",
       "      <td>1</td>\n",
       "      <td>1000</td>\n",
       "      <td>1</td>\n",
       "      <td>5</td>\n",
       "      <td>Natural Chip        Compny SeaSalt175g</td>\n",
       "      <td>2</td>\n",
       "      <td>6.0</td>\n",
       "    </tr>\n",
       "    <tr>\n",
       "      <th>1</th>\n",
       "      <td>43599</td>\n",
       "      <td>1</td>\n",
       "      <td>1307</td>\n",
       "      <td>348</td>\n",
       "      <td>66</td>\n",
       "      <td>CCs Nacho Cheese    175g</td>\n",
       "      <td>3</td>\n",
       "      <td>6.3</td>\n",
       "    </tr>\n",
       "    <tr>\n",
       "      <th>2</th>\n",
       "      <td>43605</td>\n",
       "      <td>1</td>\n",
       "      <td>1343</td>\n",
       "      <td>383</td>\n",
       "      <td>61</td>\n",
       "      <td>Smiths Crinkle Cut  Chips Chicken 170g</td>\n",
       "      <td>2</td>\n",
       "      <td>2.9</td>\n",
       "    </tr>\n",
       "    <tr>\n",
       "      <th>3</th>\n",
       "      <td>43329</td>\n",
       "      <td>2</td>\n",
       "      <td>2373</td>\n",
       "      <td>974</td>\n",
       "      <td>69</td>\n",
       "      <td>Smiths Chip Thinly  S/Cream&amp;Onion 175g</td>\n",
       "      <td>5</td>\n",
       "      <td>15.0</td>\n",
       "    </tr>\n",
       "    <tr>\n",
       "      <th>4</th>\n",
       "      <td>43330</td>\n",
       "      <td>2</td>\n",
       "      <td>2426</td>\n",
       "      <td>1038</td>\n",
       "      <td>108</td>\n",
       "      <td>Kettle Tortilla ChpsHny&amp;Jlpno Chili 150g</td>\n",
       "      <td>3</td>\n",
       "      <td>13.8</td>\n",
       "    </tr>\n",
       "  </tbody>\n",
       "</table>\n",
       "</div>"
      ],
      "text/plain": [
       "    DATE  STORE_NBR  LYLTY_CARD_NBR  TXN_ID  PROD_NBR  \\\n",
       "0  43390          1            1000       1         5   \n",
       "1  43599          1            1307     348        66   \n",
       "2  43605          1            1343     383        61   \n",
       "3  43329          2            2373     974        69   \n",
       "4  43330          2            2426    1038       108   \n",
       "\n",
       "                                  PROD_NAME  PROD_QTY  TOT_SALES  \n",
       "0    Natural Chip        Compny SeaSalt175g         2        6.0  \n",
       "1                  CCs Nacho Cheese    175g         3        6.3  \n",
       "2    Smiths Crinkle Cut  Chips Chicken 170g         2        2.9  \n",
       "3    Smiths Chip Thinly  S/Cream&Onion 175g         5       15.0  \n",
       "4  Kettle Tortilla ChpsHny&Jlpno Chili 150g         3       13.8  "
      ]
     },
     "execution_count": 16,
     "metadata": {},
     "output_type": "execute_result"
    }
   ],
   "source": [
    "transactions.head()"
   ]
  },
  {
   "cell_type": "code",
   "execution_count": 17,
   "id": "498b6990",
   "metadata": {},
   "outputs": [
    {
     "data": {
      "text/plain": [
       "(264836, 8)"
      ]
     },
     "execution_count": 17,
     "metadata": {},
     "output_type": "execute_result"
    }
   ],
   "source": [
    " transactions.shape"
   ]
  },
  {
   "cell_type": "code",
   "execution_count": 18,
   "id": "e9449484",
   "metadata": {},
   "outputs": [
    {
     "name": "stdout",
     "output_type": "stream",
     "text": [
      "<class 'pandas.core.frame.DataFrame'>\n",
      "RangeIndex: 264836 entries, 0 to 264835\n",
      "Data columns (total 8 columns):\n",
      " #   Column          Non-Null Count   Dtype  \n",
      "---  ------          --------------   -----  \n",
      " 0   DATE            264836 non-null  int64  \n",
      " 1   STORE_NBR       264836 non-null  int64  \n",
      " 2   LYLTY_CARD_NBR  264836 non-null  int64  \n",
      " 3   TXN_ID          264836 non-null  int64  \n",
      " 4   PROD_NBR        264836 non-null  int64  \n",
      " 5   PROD_NAME       264836 non-null  object \n",
      " 6   PROD_QTY        264836 non-null  int64  \n",
      " 7   TOT_SALES       264836 non-null  float64\n",
      "dtypes: float64(1), int64(6), object(1)\n",
      "memory usage: 16.2+ MB\n"
     ]
    }
   ],
   "source": [
    "transactions.info()"
   ]
  },
  {
   "cell_type": "code",
   "execution_count": 19,
   "id": "5eabcfad",
   "metadata": {},
   "outputs": [
    {
     "name": "stdout",
     "output_type": "stream",
     "text": [
      "DATE : 364\n",
      "STORE_NBR : 272\n",
      "LYLTY_CARD_NBR : 72637\n",
      "TXN_ID : 263127\n",
      "PROD_NBR : 114\n",
      "PROD_NAME : 114\n",
      "PROD_QTY : 6\n",
      "TOT_SALES : 112\n"
     ]
    }
   ],
   "source": [
    "for column in transactions.columns:\n",
    "    print(column,':',transactions[column].nunique())"
   ]
  },
  {
   "cell_type": "code",
   "execution_count": 20,
   "id": "27d563f0",
   "metadata": {
    "scrolled": true
   },
   "outputs": [
    {
     "data": {
      "text/html": [
       "<div>\n",
       "<style scoped>\n",
       "    .dataframe tbody tr th:only-of-type {\n",
       "        vertical-align: middle;\n",
       "    }\n",
       "\n",
       "    .dataframe tbody tr th {\n",
       "        vertical-align: top;\n",
       "    }\n",
       "\n",
       "    .dataframe thead th {\n",
       "        text-align: right;\n",
       "    }\n",
       "</style>\n",
       "<table border=\"1\" class=\"dataframe\">\n",
       "  <thead>\n",
       "    <tr style=\"text-align: right;\">\n",
       "      <th></th>\n",
       "      <th>DATE</th>\n",
       "      <th>STORE_NBR</th>\n",
       "      <th>LYLTY_CARD_NBR</th>\n",
       "      <th>TXN_ID</th>\n",
       "      <th>PROD_NBR</th>\n",
       "      <th>PROD_NAME</th>\n",
       "      <th>PROD_QTY</th>\n",
       "      <th>TOT_SALES</th>\n",
       "    </tr>\n",
       "  </thead>\n",
       "  <tbody>\n",
       "    <tr>\n",
       "      <th>count</th>\n",
       "      <td>264836.000000</td>\n",
       "      <td>264836.00000</td>\n",
       "      <td>2.648360e+05</td>\n",
       "      <td>2.648360e+05</td>\n",
       "      <td>264836.000000</td>\n",
       "      <td>264836</td>\n",
       "      <td>264836.000000</td>\n",
       "      <td>264836.000000</td>\n",
       "    </tr>\n",
       "    <tr>\n",
       "      <th>unique</th>\n",
       "      <td>NaN</td>\n",
       "      <td>NaN</td>\n",
       "      <td>NaN</td>\n",
       "      <td>NaN</td>\n",
       "      <td>NaN</td>\n",
       "      <td>114</td>\n",
       "      <td>NaN</td>\n",
       "      <td>NaN</td>\n",
       "    </tr>\n",
       "    <tr>\n",
       "      <th>top</th>\n",
       "      <td>NaN</td>\n",
       "      <td>NaN</td>\n",
       "      <td>NaN</td>\n",
       "      <td>NaN</td>\n",
       "      <td>NaN</td>\n",
       "      <td>Kettle Mozzarella   Basil &amp; Pesto 175g</td>\n",
       "      <td>NaN</td>\n",
       "      <td>NaN</td>\n",
       "    </tr>\n",
       "    <tr>\n",
       "      <th>freq</th>\n",
       "      <td>NaN</td>\n",
       "      <td>NaN</td>\n",
       "      <td>NaN</td>\n",
       "      <td>NaN</td>\n",
       "      <td>NaN</td>\n",
       "      <td>3304</td>\n",
       "      <td>NaN</td>\n",
       "      <td>NaN</td>\n",
       "    </tr>\n",
       "    <tr>\n",
       "      <th>mean</th>\n",
       "      <td>43464.036260</td>\n",
       "      <td>135.08011</td>\n",
       "      <td>1.355495e+05</td>\n",
       "      <td>1.351583e+05</td>\n",
       "      <td>56.583157</td>\n",
       "      <td>NaN</td>\n",
       "      <td>1.907309</td>\n",
       "      <td>7.304200</td>\n",
       "    </tr>\n",
       "    <tr>\n",
       "      <th>std</th>\n",
       "      <td>105.389282</td>\n",
       "      <td>76.78418</td>\n",
       "      <td>8.057998e+04</td>\n",
       "      <td>7.813303e+04</td>\n",
       "      <td>32.826638</td>\n",
       "      <td>NaN</td>\n",
       "      <td>0.643654</td>\n",
       "      <td>3.083226</td>\n",
       "    </tr>\n",
       "    <tr>\n",
       "      <th>min</th>\n",
       "      <td>43282.000000</td>\n",
       "      <td>1.00000</td>\n",
       "      <td>1.000000e+03</td>\n",
       "      <td>1.000000e+00</td>\n",
       "      <td>1.000000</td>\n",
       "      <td>NaN</td>\n",
       "      <td>1.000000</td>\n",
       "      <td>1.500000</td>\n",
       "    </tr>\n",
       "    <tr>\n",
       "      <th>25%</th>\n",
       "      <td>43373.000000</td>\n",
       "      <td>70.00000</td>\n",
       "      <td>7.002100e+04</td>\n",
       "      <td>6.760150e+04</td>\n",
       "      <td>28.000000</td>\n",
       "      <td>NaN</td>\n",
       "      <td>2.000000</td>\n",
       "      <td>5.400000</td>\n",
       "    </tr>\n",
       "    <tr>\n",
       "      <th>50%</th>\n",
       "      <td>43464.000000</td>\n",
       "      <td>130.00000</td>\n",
       "      <td>1.303575e+05</td>\n",
       "      <td>1.351375e+05</td>\n",
       "      <td>56.000000</td>\n",
       "      <td>NaN</td>\n",
       "      <td>2.000000</td>\n",
       "      <td>7.400000</td>\n",
       "    </tr>\n",
       "    <tr>\n",
       "      <th>75%</th>\n",
       "      <td>43555.000000</td>\n",
       "      <td>203.00000</td>\n",
       "      <td>2.030942e+05</td>\n",
       "      <td>2.027012e+05</td>\n",
       "      <td>85.000000</td>\n",
       "      <td>NaN</td>\n",
       "      <td>2.000000</td>\n",
       "      <td>9.200000</td>\n",
       "    </tr>\n",
       "    <tr>\n",
       "      <th>max</th>\n",
       "      <td>43646.000000</td>\n",
       "      <td>272.00000</td>\n",
       "      <td>2.373711e+06</td>\n",
       "      <td>2.415841e+06</td>\n",
       "      <td>114.000000</td>\n",
       "      <td>NaN</td>\n",
       "      <td>200.000000</td>\n",
       "      <td>650.000000</td>\n",
       "    </tr>\n",
       "  </tbody>\n",
       "</table>\n",
       "</div>"
      ],
      "text/plain": [
       "                 DATE     STORE_NBR  LYLTY_CARD_NBR        TXN_ID  \\\n",
       "count   264836.000000  264836.00000    2.648360e+05  2.648360e+05   \n",
       "unique            NaN           NaN             NaN           NaN   \n",
       "top               NaN           NaN             NaN           NaN   \n",
       "freq              NaN           NaN             NaN           NaN   \n",
       "mean     43464.036260     135.08011    1.355495e+05  1.351583e+05   \n",
       "std        105.389282      76.78418    8.057998e+04  7.813303e+04   \n",
       "min      43282.000000       1.00000    1.000000e+03  1.000000e+00   \n",
       "25%      43373.000000      70.00000    7.002100e+04  6.760150e+04   \n",
       "50%      43464.000000     130.00000    1.303575e+05  1.351375e+05   \n",
       "75%      43555.000000     203.00000    2.030942e+05  2.027012e+05   \n",
       "max      43646.000000     272.00000    2.373711e+06  2.415841e+06   \n",
       "\n",
       "             PROD_NBR                               PROD_NAME       PROD_QTY  \\\n",
       "count   264836.000000                                  264836  264836.000000   \n",
       "unique            NaN                                     114            NaN   \n",
       "top               NaN  Kettle Mozzarella   Basil & Pesto 175g            NaN   \n",
       "freq              NaN                                    3304            NaN   \n",
       "mean        56.583157                                     NaN       1.907309   \n",
       "std         32.826638                                     NaN       0.643654   \n",
       "min          1.000000                                     NaN       1.000000   \n",
       "25%         28.000000                                     NaN       2.000000   \n",
       "50%         56.000000                                     NaN       2.000000   \n",
       "75%         85.000000                                     NaN       2.000000   \n",
       "max        114.000000                                     NaN     200.000000   \n",
       "\n",
       "            TOT_SALES  \n",
       "count   264836.000000  \n",
       "unique            NaN  \n",
       "top               NaN  \n",
       "freq              NaN  \n",
       "mean         7.304200  \n",
       "std          3.083226  \n",
       "min          1.500000  \n",
       "25%          5.400000  \n",
       "50%          7.400000  \n",
       "75%          9.200000  \n",
       "max        650.000000  "
      ]
     },
     "execution_count": 20,
     "metadata": {},
     "output_type": "execute_result"
    }
   ],
   "source": [
    "transactions.describe(include='all')"
   ]
  },
  {
   "cell_type": "code",
   "execution_count": 21,
   "id": "6b9dd56a",
   "metadata": {},
   "outputs": [
    {
     "data": {
      "text/plain": [
       "DATE                 364\n",
       "STORE_NBR            272\n",
       "LYLTY_CARD_NBR     72637\n",
       "TXN_ID            263127\n",
       "PROD_NBR             114\n",
       "PROD_NAME            114\n",
       "PROD_QTY               6\n",
       "TOT_SALES            112\n",
       "dtype: int64"
      ]
     },
     "execution_count": 21,
     "metadata": {},
     "output_type": "execute_result"
    }
   ],
   "source": [
    "transactions.nunique()"
   ]
  },
  {
   "cell_type": "code",
   "execution_count": 22,
   "id": "d1c8ce4e",
   "metadata": {},
   "outputs": [
    {
     "data": {
      "text/plain": [
       "1"
      ]
     },
     "execution_count": 22,
     "metadata": {},
     "output_type": "execute_result"
    }
   ],
   "source": [
    "transactions.duplicated().sum()"
   ]
  },
  {
   "cell_type": "code",
   "execution_count": 23,
   "id": "ee0958f0",
   "metadata": {},
   "outputs": [
    {
     "data": {
      "text/html": [
       "<div>\n",
       "<style scoped>\n",
       "    .dataframe tbody tr th:only-of-type {\n",
       "        vertical-align: middle;\n",
       "    }\n",
       "\n",
       "    .dataframe tbody tr th {\n",
       "        vertical-align: top;\n",
       "    }\n",
       "\n",
       "    .dataframe thead th {\n",
       "        text-align: right;\n",
       "    }\n",
       "</style>\n",
       "<table border=\"1\" class=\"dataframe\">\n",
       "  <thead>\n",
       "    <tr style=\"text-align: right;\">\n",
       "      <th></th>\n",
       "      <th>DATE</th>\n",
       "      <th>STORE_NBR</th>\n",
       "      <th>LYLTY_CARD_NBR</th>\n",
       "      <th>TXN_ID</th>\n",
       "      <th>PROD_NBR</th>\n",
       "      <th>PROD_NAME</th>\n",
       "      <th>PROD_QTY</th>\n",
       "      <th>TOT_SALES</th>\n",
       "    </tr>\n",
       "  </thead>\n",
       "  <tbody>\n",
       "    <tr>\n",
       "      <th>124845</th>\n",
       "      <td>43374</td>\n",
       "      <td>107</td>\n",
       "      <td>107024</td>\n",
       "      <td>108462</td>\n",
       "      <td>45</td>\n",
       "      <td>Smiths Thinly Cut   Roast Chicken 175g</td>\n",
       "      <td>2</td>\n",
       "      <td>6.0</td>\n",
       "    </tr>\n",
       "  </tbody>\n",
       "</table>\n",
       "</div>"
      ],
      "text/plain": [
       "         DATE  STORE_NBR  LYLTY_CARD_NBR  TXN_ID  PROD_NBR  \\\n",
       "124845  43374        107          107024  108462        45   \n",
       "\n",
       "                                     PROD_NAME  PROD_QTY  TOT_SALES  \n",
       "124845  Smiths Thinly Cut   Roast Chicken 175g         2        6.0  "
      ]
     },
     "execution_count": 23,
     "metadata": {},
     "output_type": "execute_result"
    }
   ],
   "source": [
    "transactions[transactions.duplicated()==True]"
   ]
  },
  {
   "cell_type": "markdown",
   "id": "8b7f2a2c",
   "metadata": {},
   "source": [
    "#### Usually duplicated values are removed but for this dataset, a duplicate value might not be an error as cashier scanning the same product twice which seems reasonable as it's only 1 duplicate in the entire dataset"
   ]
  },
  {
   "cell_type": "code",
   "execution_count": 24,
   "id": "52b01bfe",
   "metadata": {},
   "outputs": [
    {
     "data": {
      "text/plain": [
       "Kettle Mozzarella   Basil & Pesto 175g      3304\n",
       "Kettle Tortilla ChpsHny&Jlpno Chili 150g    3296\n",
       "Cobs Popd Swt/Chlli &Sr/Cream Chips 110g    3269\n",
       "Tyrrells Crisps     Ched & Chives 165g      3268\n",
       "Cobs Popd Sea Salt  Chips 110g              3265\n",
       "                                            ... \n",
       "RRD Pc Sea Salt     165g                    1431\n",
       "Woolworths Medium   Salsa 300g              1430\n",
       "NCC Sour Cream &    Garden Chives 175g      1419\n",
       "French Fries Potato Chips 175g              1418\n",
       "WW Crinkle Cut      Original 175g           1410\n",
       "Name: PROD_NAME, Length: 114, dtype: int64"
      ]
     },
     "execution_count": 24,
     "metadata": {},
     "output_type": "execute_result"
    }
   ],
   "source": [
    "#checking prod names\n",
    "transactions['PROD_NAME'].value_counts()"
   ]
  },
  {
   "cell_type": "code",
   "execution_count": 25,
   "id": "45f90779",
   "metadata": {
    "scrolled": true
   },
   "outputs": [
    {
     "data": {
      "text/plain": [
       "2      236039\n",
       "1       27518\n",
       "5         450\n",
       "3         430\n",
       "4         397\n",
       "200         2\n",
       "Name: PROD_QTY, dtype: int64"
      ]
     },
     "execution_count": 25,
     "metadata": {},
     "output_type": "execute_result"
    }
   ],
   "source": [
    "#checking distribution of product quantites sold in a single transaction\n",
    "transactions['PROD_QTY'].value_counts()"
   ]
  },
  {
   "cell_type": "markdown",
   "id": "c5368644",
   "metadata": {},
   "source": [
    "#### 200 Seems suspicious which will be dealt with later"
   ]
  },
  {
   "cell_type": "code",
   "execution_count": 26,
   "id": "cd21f227",
   "metadata": {},
   "outputs": [
    {
     "data": {
      "text/plain": [
       "9.2      22821\n",
       "7.4      22513\n",
       "6.0      20798\n",
       "7.6      20212\n",
       "8.8      19900\n",
       "         ...  \n",
       "9.3          3\n",
       "6.9          3\n",
       "650.0        2\n",
       "11.2         2\n",
       "12.4         2\n",
       "Name: TOT_SALES, Length: 112, dtype: int64"
      ]
     },
     "execution_count": 26,
     "metadata": {},
     "output_type": "execute_result"
    }
   ],
   "source": [
    "transactions['TOT_SALES'].value_counts()"
   ]
  },
  {
   "cell_type": "markdown",
   "id": "d9402a87",
   "metadata": {},
   "source": [
    "### Data Cleaning and Engineering"
   ]
  },
  {
   "cell_type": "code",
   "execution_count": 27,
   "id": "b2cb5c44",
   "metadata": {},
   "outputs": [],
   "source": [
    "#dealing with unusual data points\n",
    "outliers=transactions[transactions['PROD_QTY']==200].index\n",
    "transactions=transactions.drop(outliers).reset_index(drop=True)"
   ]
  },
  {
   "cell_type": "code",
   "execution_count": 28,
   "id": "62ba710d",
   "metadata": {},
   "outputs": [
    {
     "data": {
      "text/html": [
       "<div>\n",
       "<style scoped>\n",
       "    .dataframe tbody tr th:only-of-type {\n",
       "        vertical-align: middle;\n",
       "    }\n",
       "\n",
       "    .dataframe tbody tr th {\n",
       "        vertical-align: top;\n",
       "    }\n",
       "\n",
       "    .dataframe thead th {\n",
       "        text-align: right;\n",
       "    }\n",
       "</style>\n",
       "<table border=\"1\" class=\"dataframe\">\n",
       "  <thead>\n",
       "    <tr style=\"text-align: right;\">\n",
       "      <th></th>\n",
       "      <th>DATE</th>\n",
       "      <th>STORE_NBR</th>\n",
       "      <th>LYLTY_CARD_NBR</th>\n",
       "      <th>TXN_ID</th>\n",
       "      <th>PROD_NBR</th>\n",
       "      <th>PROD_NAME</th>\n",
       "      <th>PROD_QTY</th>\n",
       "      <th>TOT_SALES</th>\n",
       "    </tr>\n",
       "  </thead>\n",
       "  <tbody>\n",
       "    <tr>\n",
       "      <th>0</th>\n",
       "      <td>43390</td>\n",
       "      <td>1</td>\n",
       "      <td>1000</td>\n",
       "      <td>1</td>\n",
       "      <td>5</td>\n",
       "      <td>Natural Chip        Compny SeaSalt175g</td>\n",
       "      <td>2</td>\n",
       "      <td>6.0</td>\n",
       "    </tr>\n",
       "    <tr>\n",
       "      <th>1</th>\n",
       "      <td>43599</td>\n",
       "      <td>1</td>\n",
       "      <td>1307</td>\n",
       "      <td>348</td>\n",
       "      <td>66</td>\n",
       "      <td>CCs Nacho Cheese    175g</td>\n",
       "      <td>3</td>\n",
       "      <td>6.3</td>\n",
       "    </tr>\n",
       "    <tr>\n",
       "      <th>2</th>\n",
       "      <td>43605</td>\n",
       "      <td>1</td>\n",
       "      <td>1343</td>\n",
       "      <td>383</td>\n",
       "      <td>61</td>\n",
       "      <td>Smiths Crinkle Cut  Chips Chicken 170g</td>\n",
       "      <td>2</td>\n",
       "      <td>2.9</td>\n",
       "    </tr>\n",
       "    <tr>\n",
       "      <th>3</th>\n",
       "      <td>43329</td>\n",
       "      <td>2</td>\n",
       "      <td>2373</td>\n",
       "      <td>974</td>\n",
       "      <td>69</td>\n",
       "      <td>Smiths Chip Thinly  S/Cream&amp;Onion 175g</td>\n",
       "      <td>5</td>\n",
       "      <td>15.0</td>\n",
       "    </tr>\n",
       "    <tr>\n",
       "      <th>4</th>\n",
       "      <td>43330</td>\n",
       "      <td>2</td>\n",
       "      <td>2426</td>\n",
       "      <td>1038</td>\n",
       "      <td>108</td>\n",
       "      <td>Kettle Tortilla ChpsHny&amp;Jlpno Chili 150g</td>\n",
       "      <td>3</td>\n",
       "      <td>13.8</td>\n",
       "    </tr>\n",
       "  </tbody>\n",
       "</table>\n",
       "</div>"
      ],
      "text/plain": [
       "    DATE  STORE_NBR  LYLTY_CARD_NBR  TXN_ID  PROD_NBR  \\\n",
       "0  43390          1            1000       1         5   \n",
       "1  43599          1            1307     348        66   \n",
       "2  43605          1            1343     383        61   \n",
       "3  43329          2            2373     974        69   \n",
       "4  43330          2            2426    1038       108   \n",
       "\n",
       "                                  PROD_NAME  PROD_QTY  TOT_SALES  \n",
       "0    Natural Chip        Compny SeaSalt175g         2        6.0  \n",
       "1                  CCs Nacho Cheese    175g         3        6.3  \n",
       "2    Smiths Crinkle Cut  Chips Chicken 170g         2        2.9  \n",
       "3    Smiths Chip Thinly  S/Cream&Onion 175g         5       15.0  \n",
       "4  Kettle Tortilla ChpsHny&Jlpno Chili 150g         3       13.8  "
      ]
     },
     "execution_count": 28,
     "metadata": {},
     "output_type": "execute_result"
    }
   ],
   "source": [
    "transactions.head()"
   ]
  },
  {
   "cell_type": "code",
   "execution_count": 29,
   "id": "abc5c24f",
   "metadata": {},
   "outputs": [],
   "source": [
    "#Changing date to it's correct format\n",
    "from datetime import datetime, timedelta\n",
    "transactions['DATE']=transactions['DATE'].apply(lambda x: (datetime(1899, 12, 30) + timedelta(days=int(x))).strftime(\"%m/%d/%Y\"))"
   ]
  },
  {
   "cell_type": "code",
   "execution_count": 30,
   "id": "4944ab5b",
   "metadata": {},
   "outputs": [],
   "source": [
    "transactions['DATE']=pd.to_datetime(transactions['DATE'])"
   ]
  },
  {
   "cell_type": "code",
   "execution_count": 31,
   "id": "ba211e44",
   "metadata": {},
   "outputs": [
    {
     "data": {
      "text/plain": [
       "2018-07-01    724\n",
       "2018-07-02    711\n",
       "2018-07-03    722\n",
       "2018-07-04    714\n",
       "2018-07-05    712\n",
       "             ... \n",
       "2019-06-26    723\n",
       "2019-06-27    709\n",
       "2019-06-28    730\n",
       "2019-06-29    745\n",
       "2019-06-30    744\n",
       "Name: DATE, Length: 364, dtype: int64"
      ]
     },
     "execution_count": 31,
     "metadata": {},
     "output_type": "execute_result"
    }
   ],
   "source": [
    "transactions['DATE'].value_counts().sort_index()"
   ]
  },
  {
   "cell_type": "code",
   "execution_count": 32,
   "id": "57ed88b3",
   "metadata": {},
   "outputs": [],
   "source": [
    "#extracting pack size for productname and using it as a column\n",
    "transactions['pack_size']=transactions['PROD_NAME'].str.extract(r'(\\d\\d*)')"
   ]
  },
  {
   "cell_type": "code",
   "execution_count": 33,
   "id": "7406ebd2",
   "metadata": {},
   "outputs": [
    {
     "data": {
      "text/plain": [
       "175    66390\n",
       "150    43131\n",
       "134    25102\n",
       "110    22387\n",
       "170    19983\n",
       "165    15297\n",
       "300    15166\n",
       "330    12540\n",
       "380     6416\n",
       "270     6285\n",
       "210     6272\n",
       "200     4473\n",
       "135     3257\n",
       "250     3169\n",
       "90      3008\n",
       "190     2995\n",
       "160     2970\n",
       "220     1564\n",
       "70      1507\n",
       "180     1468\n",
       "125     1454\n",
       "Name: pack_size, dtype: int64"
      ]
     },
     "execution_count": 33,
     "metadata": {},
     "output_type": "execute_result"
    }
   ],
   "source": [
    "transactions['pack_size'].value_counts()"
   ]
  },
  {
   "cell_type": "code",
   "execution_count": 34,
   "id": "83b7277f",
   "metadata": {},
   "outputs": [],
   "source": [
    "#extracting company name from prodname and using it as a column\n",
    "transactions['company']=transactions['PROD_NAME'].str.extract(r'(\\w*)')"
   ]
  },
  {
   "cell_type": "code",
   "execution_count": 35,
   "id": "5d88c133",
   "metadata": {},
   "outputs": [
    {
     "data": {
      "text/plain": [
       "Kettle        41288\n",
       "Smiths        28860\n",
       "Pringles      25102\n",
       "Doritos       24962\n",
       "Thins         14075\n",
       "RRD           11894\n",
       "Infuzions     11057\n",
       "WW            10320\n",
       "Cobs           9693\n",
       "Tostitos       9471\n",
       "Twisties       9454\n",
       "Old            9324\n",
       "Tyrrells       6442\n",
       "Grain          6272\n",
       "Natural        6050\n",
       "Red            5885\n",
       "Cheezels       4603\n",
       "CCs            4551\n",
       "Woolworths     4437\n",
       "Dorito         3183\n",
       "Infzns         3144\n",
       "Smith          2963\n",
       "Cheetos        2927\n",
       "Snbts          1576\n",
       "Burger         1564\n",
       "GrnWves        1468\n",
       "Sunbites       1432\n",
       "NCC            1419\n",
       "French         1418\n",
       "Name: company, dtype: int64"
      ]
     },
     "execution_count": 35,
     "metadata": {},
     "output_type": "execute_result"
    }
   ],
   "source": [
    "transactions['company'].value_counts()"
   ]
  },
  {
   "cell_type": "code",
   "execution_count": 36,
   "id": "dc445fa6",
   "metadata": {},
   "outputs": [],
   "source": [
    "#Removing products that's not chips\n",
    "salsa=transactions[transactions['company']=='Old'].index\n",
    "transactions=transactions.drop(salsa).reset_index(drop=True)\n"
   ]
  },
  {
   "cell_type": "code",
   "execution_count": 37,
   "id": "336244d7",
   "metadata": {},
   "outputs": [],
   "source": [
    "#Renaming and combining company names which looks like the same company\n",
    "transactions['company'].replace([['Smith','Smiths'],['Dorito','Doritos'],['Red','RRD'],['GrnWves','Grain'],['Snbts','Sunbites'],['Infzns','Infuzions']],inplace=True)"
   ]
  },
  {
   "cell_type": "code",
   "execution_count": 38,
   "id": "dd3b8c3b",
   "metadata": {},
   "outputs": [
    {
     "data": {
      "text/plain": [
       "Kettle        67234\n",
       "Pringles      41149\n",
       "Thins         23247\n",
       "WW            18767\n",
       "Cobs          15761\n",
       "Tostitos      15448\n",
       "Twisties      15269\n",
       "Natural       11039\n",
       "Tyrrells      10350\n",
       "CCs            8203\n",
       "Woolworths     8084\n",
       "Cheezels       7724\n",
       "Cheetos        5222\n",
       "Burger         2900\n",
       "NCC            2577\n",
       "French         2536\n",
       "Name: company, dtype: int64"
      ]
     },
     "execution_count": 38,
     "metadata": {},
     "output_type": "execute_result"
    }
   ],
   "source": [
    "transactions['company'].value_counts()"
   ]
  },
  {
   "cell_type": "code",
   "execution_count": 39,
   "id": "b103d935",
   "metadata": {},
   "outputs": [
    {
     "name": "stdout",
     "output_type": "stream",
     "text": [
      "        DATE  STORE_NBR  LYLTY_CARD_NBR  TXN_ID  PROD_NBR  \\\n",
      "0 2018-10-17          1            1000       1         5   \n",
      "1 2019-05-14          1            1307     348        66   \n",
      "2 2019-05-20          1            1343     383        61   \n",
      "3 2018-08-17          2            2373     974        69   \n",
      "4 2018-08-18          2            2426    1038       108   \n",
      "\n",
      "                                  PROD_NAME  PROD_QTY  TOT_SALES pack_size  \\\n",
      "0    Natural Chip        Compny SeaSalt175g         2        6.0       175   \n",
      "1                  CCs Nacho Cheese    175g         3        6.3       175   \n",
      "2    Smiths Crinkle Cut  Chips Chicken 170g         2        2.9       170   \n",
      "3    Smiths Chip Thinly  S/Cream&Onion 175g         5       15.0       175   \n",
      "4  Kettle Tortilla ChpsHny&Jlpno Chili 150g         3       13.8       150   \n",
      "\n",
      "   company  \n",
      "0  Natural  \n",
      "1      CCs  \n",
      "2      CCs  \n",
      "3      CCs  \n",
      "4   Kettle  \n"
     ]
    },
    {
     "data": {
      "text/plain": [
       "(255510, 10)"
      ]
     },
     "execution_count": 39,
     "metadata": {},
     "output_type": "execute_result"
    }
   ],
   "source": [
    "print(transactions.head())\n",
    "transactions.shape"
   ]
  },
  {
   "cell_type": "code",
   "execution_count": 40,
   "id": "36dafa39",
   "metadata": {},
   "outputs": [],
   "source": [
    "#Merging the two datasets together\n",
    "Total_dataset=pd.merge(transactions,Purchase,how='inner',on='LYLTY_CARD_NBR')\n"
   ]
  },
  {
   "cell_type": "code",
   "execution_count": 41,
   "id": "526265f7",
   "metadata": {},
   "outputs": [
    {
     "data": {
      "text/html": [
       "<div>\n",
       "<style scoped>\n",
       "    .dataframe tbody tr th:only-of-type {\n",
       "        vertical-align: middle;\n",
       "    }\n",
       "\n",
       "    .dataframe tbody tr th {\n",
       "        vertical-align: top;\n",
       "    }\n",
       "\n",
       "    .dataframe thead th {\n",
       "        text-align: right;\n",
       "    }\n",
       "</style>\n",
       "<table border=\"1\" class=\"dataframe\">\n",
       "  <thead>\n",
       "    <tr style=\"text-align: right;\">\n",
       "      <th></th>\n",
       "      <th>DATE</th>\n",
       "      <th>STORE_NBR</th>\n",
       "      <th>LYLTY_CARD_NBR</th>\n",
       "      <th>TXN_ID</th>\n",
       "      <th>PROD_NBR</th>\n",
       "      <th>PROD_NAME</th>\n",
       "      <th>PROD_QTY</th>\n",
       "      <th>TOT_SALES</th>\n",
       "      <th>pack_size</th>\n",
       "      <th>company</th>\n",
       "      <th>LIFESTAGE</th>\n",
       "      <th>PREMIUM_CUSTOMER</th>\n",
       "    </tr>\n",
       "  </thead>\n",
       "  <tbody>\n",
       "    <tr>\n",
       "      <th>0</th>\n",
       "      <td>2018-10-17</td>\n",
       "      <td>1</td>\n",
       "      <td>1000</td>\n",
       "      <td>1</td>\n",
       "      <td>5</td>\n",
       "      <td>Natural Chip        Compny SeaSalt175g</td>\n",
       "      <td>2</td>\n",
       "      <td>6.0</td>\n",
       "      <td>175</td>\n",
       "      <td>Natural</td>\n",
       "      <td>YOUNG SINGLES/COUPLES</td>\n",
       "      <td>Premium</td>\n",
       "    </tr>\n",
       "    <tr>\n",
       "      <th>1</th>\n",
       "      <td>2019-05-14</td>\n",
       "      <td>1</td>\n",
       "      <td>1307</td>\n",
       "      <td>348</td>\n",
       "      <td>66</td>\n",
       "      <td>CCs Nacho Cheese    175g</td>\n",
       "      <td>3</td>\n",
       "      <td>6.3</td>\n",
       "      <td>175</td>\n",
       "      <td>CCs</td>\n",
       "      <td>MIDAGE SINGLES/COUPLES</td>\n",
       "      <td>Budget</td>\n",
       "    </tr>\n",
       "    <tr>\n",
       "      <th>2</th>\n",
       "      <td>2018-11-10</td>\n",
       "      <td>1</td>\n",
       "      <td>1307</td>\n",
       "      <td>346</td>\n",
       "      <td>96</td>\n",
       "      <td>WW Original Stacked Chips 160g</td>\n",
       "      <td>2</td>\n",
       "      <td>3.8</td>\n",
       "      <td>160</td>\n",
       "      <td>WW</td>\n",
       "      <td>MIDAGE SINGLES/COUPLES</td>\n",
       "      <td>Budget</td>\n",
       "    </tr>\n",
       "    <tr>\n",
       "      <th>3</th>\n",
       "      <td>2019-03-09</td>\n",
       "      <td>1</td>\n",
       "      <td>1307</td>\n",
       "      <td>347</td>\n",
       "      <td>54</td>\n",
       "      <td>CCs Original 175g</td>\n",
       "      <td>1</td>\n",
       "      <td>2.1</td>\n",
       "      <td>175</td>\n",
       "      <td>CCs</td>\n",
       "      <td>MIDAGE SINGLES/COUPLES</td>\n",
       "      <td>Budget</td>\n",
       "    </tr>\n",
       "    <tr>\n",
       "      <th>4</th>\n",
       "      <td>2019-05-20</td>\n",
       "      <td>1</td>\n",
       "      <td>1343</td>\n",
       "      <td>383</td>\n",
       "      <td>61</td>\n",
       "      <td>Smiths Crinkle Cut  Chips Chicken 170g</td>\n",
       "      <td>2</td>\n",
       "      <td>2.9</td>\n",
       "      <td>170</td>\n",
       "      <td>CCs</td>\n",
       "      <td>MIDAGE SINGLES/COUPLES</td>\n",
       "      <td>Budget</td>\n",
       "    </tr>\n",
       "  </tbody>\n",
       "</table>\n",
       "</div>"
      ],
      "text/plain": [
       "        DATE  STORE_NBR  LYLTY_CARD_NBR  TXN_ID  PROD_NBR  \\\n",
       "0 2018-10-17          1            1000       1         5   \n",
       "1 2019-05-14          1            1307     348        66   \n",
       "2 2018-11-10          1            1307     346        96   \n",
       "3 2019-03-09          1            1307     347        54   \n",
       "4 2019-05-20          1            1343     383        61   \n",
       "\n",
       "                                PROD_NAME  PROD_QTY  TOT_SALES pack_size  \\\n",
       "0  Natural Chip        Compny SeaSalt175g         2        6.0       175   \n",
       "1                CCs Nacho Cheese    175g         3        6.3       175   \n",
       "2          WW Original Stacked Chips 160g         2        3.8       160   \n",
       "3                       CCs Original 175g         1        2.1       175   \n",
       "4  Smiths Crinkle Cut  Chips Chicken 170g         2        2.9       170   \n",
       "\n",
       "   company               LIFESTAGE PREMIUM_CUSTOMER  \n",
       "0  Natural   YOUNG SINGLES/COUPLES          Premium  \n",
       "1      CCs  MIDAGE SINGLES/COUPLES           Budget  \n",
       "2       WW  MIDAGE SINGLES/COUPLES           Budget  \n",
       "3      CCs  MIDAGE SINGLES/COUPLES           Budget  \n",
       "4      CCs  MIDAGE SINGLES/COUPLES           Budget  "
      ]
     },
     "execution_count": 41,
     "metadata": {},
     "output_type": "execute_result"
    }
   ],
   "source": [
    "Total_dataset.head()"
   ]
  },
  {
   "cell_type": "code",
   "execution_count": 42,
   "id": "c3c4bfab",
   "metadata": {},
   "outputs": [],
   "source": [
    "trans_prod_qty=Total_dataset.groupby(['LIFESTAGE','PREMIUM_CUSTOMER']).agg({'TXN_ID':'count','PROD_QTY':'sum'}).rename(columns={'TOT_SALES':'Avg_Sales','TXN_ID':'Total_Transactions'})\n",
    "trans_prod_qty=trans_prod_qty.sort_values(by='PROD_QTY',ascending=False)"
   ]
  },
  {
   "cell_type": "code",
   "execution_count": 43,
   "id": "41051fba",
   "metadata": {},
   "outputs": [
    {
     "data": {
      "text/html": [
       "<div>\n",
       "<style scoped>\n",
       "    .dataframe tbody tr th:only-of-type {\n",
       "        vertical-align: middle;\n",
       "    }\n",
       "\n",
       "    .dataframe tbody tr th {\n",
       "        vertical-align: top;\n",
       "    }\n",
       "\n",
       "    .dataframe thead th {\n",
       "        text-align: right;\n",
       "    }\n",
       "</style>\n",
       "<table border=\"1\" class=\"dataframe\">\n",
       "  <thead>\n",
       "    <tr style=\"text-align: right;\">\n",
       "      <th></th>\n",
       "      <th></th>\n",
       "      <th>Total_Transactions</th>\n",
       "      <th>PROD_QTY</th>\n",
       "    </tr>\n",
       "    <tr>\n",
       "      <th>LIFESTAGE</th>\n",
       "      <th>PREMIUM_CUSTOMER</th>\n",
       "      <th></th>\n",
       "      <th></th>\n",
       "    </tr>\n",
       "  </thead>\n",
       "  <tbody>\n",
       "    <tr>\n",
       "      <th>OLDER FAMILIES</th>\n",
       "      <th>Budget</th>\n",
       "      <td>22402</td>\n",
       "      <td>43581</td>\n",
       "    </tr>\n",
       "    <tr>\n",
       "      <th>RETIREES</th>\n",
       "      <th>Mainstream</th>\n",
       "      <td>20702</td>\n",
       "      <td>39054</td>\n",
       "    </tr>\n",
       "    <tr>\n",
       "      <th>YOUNG SINGLES/COUPLES</th>\n",
       "      <th>Mainstream</th>\n",
       "      <td>19987</td>\n",
       "      <td>37025</td>\n",
       "    </tr>\n",
       "    <tr>\n",
       "      <th>YOUNG FAMILIES</th>\n",
       "      <th>Budget</th>\n",
       "      <td>18450</td>\n",
       "      <td>35810</td>\n",
       "    </tr>\n",
       "    <tr>\n",
       "      <th rowspan=\"3\" valign=\"top\">OLDER SINGLES/COUPLES</th>\n",
       "      <th>Budget</th>\n",
       "      <td>17733</td>\n",
       "      <td>33930</td>\n",
       "    </tr>\n",
       "    <tr>\n",
       "      <th>Mainstream</th>\n",
       "      <td>17700</td>\n",
       "      <td>33820</td>\n",
       "    </tr>\n",
       "    <tr>\n",
       "      <th>Premium</th>\n",
       "      <td>17101</td>\n",
       "      <td>32729</td>\n",
       "    </tr>\n",
       "    <tr>\n",
       "      <th>RETIREES</th>\n",
       "      <th>Budget</th>\n",
       "      <td>14632</td>\n",
       "      <td>27685</td>\n",
       "    </tr>\n",
       "    <tr>\n",
       "      <th>OLDER FAMILIES</th>\n",
       "      <th>Mainstream</th>\n",
       "      <td>13770</td>\n",
       "      <td>26833</td>\n",
       "    </tr>\n",
       "    <tr>\n",
       "      <th>YOUNG FAMILIES</th>\n",
       "      <th>Mainstream</th>\n",
       "      <td>12488</td>\n",
       "      <td>24238</td>\n",
       "    </tr>\n",
       "    <tr>\n",
       "      <th>RETIREES</th>\n",
       "      <th>Premium</th>\n",
       "      <td>12590</td>\n",
       "      <td>23931</td>\n",
       "    </tr>\n",
       "    <tr>\n",
       "      <th>MIDAGE SINGLES/COUPLES</th>\n",
       "      <th>Mainstream</th>\n",
       "      <td>11373</td>\n",
       "      <td>21743</td>\n",
       "    </tr>\n",
       "    <tr>\n",
       "      <th>YOUNG FAMILIES</th>\n",
       "      <th>Premium</th>\n",
       "      <td>11187</td>\n",
       "      <td>21674</td>\n",
       "    </tr>\n",
       "    <tr>\n",
       "      <th>OLDER FAMILIES</th>\n",
       "      <th>Premium</th>\n",
       "      <td>10833</td>\n",
       "      <td>21079</td>\n",
       "    </tr>\n",
       "    <tr>\n",
       "      <th>YOUNG SINGLES/COUPLES</th>\n",
       "      <th>Budget</th>\n",
       "      <td>8963</td>\n",
       "      <td>16162</td>\n",
       "    </tr>\n",
       "    <tr>\n",
       "      <th>MIDAGE SINGLES/COUPLES</th>\n",
       "      <th>Premium</th>\n",
       "      <td>7946</td>\n",
       "      <td>15017</td>\n",
       "    </tr>\n",
       "    <tr>\n",
       "      <th>YOUNG SINGLES/COUPLES</th>\n",
       "      <th>Premium</th>\n",
       "      <td>6103</td>\n",
       "      <td>11003</td>\n",
       "    </tr>\n",
       "    <tr>\n",
       "      <th>MIDAGE SINGLES/COUPLES</th>\n",
       "      <th>Budget</th>\n",
       "      <td>4876</td>\n",
       "      <td>9223</td>\n",
       "    </tr>\n",
       "    <tr>\n",
       "      <th rowspan=\"3\" valign=\"top\">NEW FAMILIES</th>\n",
       "      <th>Budget</th>\n",
       "      <td>2898</td>\n",
       "      <td>5369</td>\n",
       "    </tr>\n",
       "    <tr>\n",
       "      <th>Mainstream</th>\n",
       "      <td>2243</td>\n",
       "      <td>4161</td>\n",
       "    </tr>\n",
       "    <tr>\n",
       "      <th>Premium</th>\n",
       "      <td>1533</td>\n",
       "      <td>2852</td>\n",
       "    </tr>\n",
       "  </tbody>\n",
       "</table>\n",
       "</div>"
      ],
      "text/plain": [
       "                                         Total_Transactions  PROD_QTY\n",
       "LIFESTAGE              PREMIUM_CUSTOMER                              \n",
       "OLDER FAMILIES         Budget                         22402     43581\n",
       "RETIREES               Mainstream                     20702     39054\n",
       "YOUNG SINGLES/COUPLES  Mainstream                     19987     37025\n",
       "YOUNG FAMILIES         Budget                         18450     35810\n",
       "OLDER SINGLES/COUPLES  Budget                         17733     33930\n",
       "                       Mainstream                     17700     33820\n",
       "                       Premium                        17101     32729\n",
       "RETIREES               Budget                         14632     27685\n",
       "OLDER FAMILIES         Mainstream                     13770     26833\n",
       "YOUNG FAMILIES         Mainstream                     12488     24238\n",
       "RETIREES               Premium                        12590     23931\n",
       "MIDAGE SINGLES/COUPLES Mainstream                     11373     21743\n",
       "YOUNG FAMILIES         Premium                        11187     21674\n",
       "OLDER FAMILIES         Premium                        10833     21079\n",
       "YOUNG SINGLES/COUPLES  Budget                          8963     16162\n",
       "MIDAGE SINGLES/COUPLES Premium                         7946     15017\n",
       "YOUNG SINGLES/COUPLES  Premium                         6103     11003\n",
       "MIDAGE SINGLES/COUPLES Budget                          4876      9223\n",
       "NEW FAMILIES           Budget                          2898      5369\n",
       "                       Mainstream                      2243      4161\n",
       "                       Premium                         1533      2852"
      ]
     },
     "execution_count": 43,
     "metadata": {},
     "output_type": "execute_result"
    }
   ],
   "source": [
    "trans_prod_qty"
   ]
  },
  {
   "cell_type": "code",
   "execution_count": 44,
   "id": "a9951665",
   "metadata": {
    "scrolled": true
   },
   "outputs": [
    {
     "data": {
      "text/html": [
       "<div>\n",
       "<style scoped>\n",
       "    .dataframe tbody tr th:only-of-type {\n",
       "        vertical-align: middle;\n",
       "    }\n",
       "\n",
       "    .dataframe tbody tr th {\n",
       "        vertical-align: top;\n",
       "    }\n",
       "\n",
       "    .dataframe thead th {\n",
       "        text-align: right;\n",
       "    }\n",
       "</style>\n",
       "<table border=\"1\" class=\"dataframe\">\n",
       "  <thead>\n",
       "    <tr style=\"text-align: right;\">\n",
       "      <th></th>\n",
       "      <th></th>\n",
       "      <th>TOT_SALES</th>\n",
       "      <th>number_of_customers</th>\n",
       "      <th>avg_sales</th>\n",
       "    </tr>\n",
       "    <tr>\n",
       "      <th>LIFESTAGE</th>\n",
       "      <th>PREMIUM_CUSTOMER</th>\n",
       "      <th></th>\n",
       "      <th></th>\n",
       "      <th></th>\n",
       "    </tr>\n",
       "  </thead>\n",
       "  <tbody>\n",
       "    <tr>\n",
       "      <th>OLDER FAMILIES</th>\n",
       "      <th>Budget</th>\n",
       "      <td>160794.85</td>\n",
       "      <td>4641</td>\n",
       "      <td>34.646596</td>\n",
       "    </tr>\n",
       "    <tr>\n",
       "      <th>YOUNG SINGLES/COUPLES</th>\n",
       "      <th>Mainstream</th>\n",
       "      <td>149441.20</td>\n",
       "      <td>7955</td>\n",
       "      <td>18.785820</td>\n",
       "    </tr>\n",
       "    <tr>\n",
       "      <th>RETIREES</th>\n",
       "      <th>Mainstream</th>\n",
       "      <td>148210.65</td>\n",
       "      <td>6421</td>\n",
       "      <td>23.082176</td>\n",
       "    </tr>\n",
       "    <tr>\n",
       "      <th>YOUNG FAMILIES</th>\n",
       "      <th>Budget</th>\n",
       "      <td>132710.75</td>\n",
       "      <td>3980</td>\n",
       "      <td>33.344410</td>\n",
       "    </tr>\n",
       "    <tr>\n",
       "      <th rowspan=\"3\" valign=\"top\">OLDER SINGLES/COUPLES</th>\n",
       "      <th>Budget</th>\n",
       "      <td>130190.80</td>\n",
       "      <td>4892</td>\n",
       "      <td>26.613001</td>\n",
       "    </tr>\n",
       "    <tr>\n",
       "      <th>Mainstream</th>\n",
       "      <td>127391.10</td>\n",
       "      <td>4894</td>\n",
       "      <td>26.030057</td>\n",
       "    </tr>\n",
       "    <tr>\n",
       "      <th>Premium</th>\n",
       "      <td>125852.45</td>\n",
       "      <td>4715</td>\n",
       "      <td>26.691930</td>\n",
       "    </tr>\n",
       "    <tr>\n",
       "      <th>RETIREES</th>\n",
       "      <th>Budget</th>\n",
       "      <td>107644.90</td>\n",
       "      <td>4419</td>\n",
       "      <td>24.359561</td>\n",
       "    </tr>\n",
       "    <tr>\n",
       "      <th>OLDER FAMILIES</th>\n",
       "      <th>Mainstream</th>\n",
       "      <td>98738.25</td>\n",
       "      <td>2808</td>\n",
       "      <td>35.163194</td>\n",
       "    </tr>\n",
       "    <tr>\n",
       "      <th>RETIREES</th>\n",
       "      <th>Premium</th>\n",
       "      <td>92785.75</td>\n",
       "      <td>3835</td>\n",
       "      <td>24.194459</td>\n",
       "    </tr>\n",
       "    <tr>\n",
       "      <th>YOUNG FAMILIES</th>\n",
       "      <th>Mainstream</th>\n",
       "      <td>88678.15</td>\n",
       "      <td>2702</td>\n",
       "      <td>32.819449</td>\n",
       "    </tr>\n",
       "    <tr>\n",
       "      <th>MIDAGE SINGLES/COUPLES</th>\n",
       "      <th>Mainstream</th>\n",
       "      <td>85928.25</td>\n",
       "      <td>3308</td>\n",
       "      <td>25.975892</td>\n",
       "    </tr>\n",
       "    <tr>\n",
       "      <th>YOUNG FAMILIES</th>\n",
       "      <th>Premium</th>\n",
       "      <td>80292.30</td>\n",
       "      <td>2422</td>\n",
       "      <td>33.151239</td>\n",
       "    </tr>\n",
       "    <tr>\n",
       "      <th>OLDER FAMILIES</th>\n",
       "      <th>Premium</th>\n",
       "      <td>77129.20</td>\n",
       "      <td>2252</td>\n",
       "      <td>34.249201</td>\n",
       "    </tr>\n",
       "    <tr>\n",
       "      <th>YOUNG SINGLES/COUPLES</th>\n",
       "      <th>Budget</th>\n",
       "      <td>58550.80</td>\n",
       "      <td>3735</td>\n",
       "      <td>15.676252</td>\n",
       "    </tr>\n",
       "    <tr>\n",
       "      <th>MIDAGE SINGLES/COUPLES</th>\n",
       "      <th>Premium</th>\n",
       "      <td>55836.75</td>\n",
       "      <td>2405</td>\n",
       "      <td>23.216944</td>\n",
       "    </tr>\n",
       "    <tr>\n",
       "      <th>YOUNG SINGLES/COUPLES</th>\n",
       "      <th>Premium</th>\n",
       "      <td>39969.30</td>\n",
       "      <td>2542</td>\n",
       "      <td>15.723564</td>\n",
       "    </tr>\n",
       "    <tr>\n",
       "      <th>MIDAGE SINGLES/COUPLES</th>\n",
       "      <th>Budget</th>\n",
       "      <td>34122.50</td>\n",
       "      <td>1497</td>\n",
       "      <td>22.793921</td>\n",
       "    </tr>\n",
       "    <tr>\n",
       "      <th rowspan=\"3\" valign=\"top\">NEW FAMILIES</th>\n",
       "      <th>Budget</th>\n",
       "      <td>20898.25</td>\n",
       "      <td>1100</td>\n",
       "      <td>18.998409</td>\n",
       "    </tr>\n",
       "    <tr>\n",
       "      <th>Mainstream</th>\n",
       "      <td>16208.10</td>\n",
       "      <td>840</td>\n",
       "      <td>19.295357</td>\n",
       "    </tr>\n",
       "    <tr>\n",
       "      <th>Premium</th>\n",
       "      <td>10955.60</td>\n",
       "      <td>581</td>\n",
       "      <td>18.856454</td>\n",
       "    </tr>\n",
       "  </tbody>\n",
       "</table>\n",
       "</div>"
      ],
      "text/plain": [
       "                                         TOT_SALES  number_of_customers  \\\n",
       "LIFESTAGE              PREMIUM_CUSTOMER                                   \n",
       "OLDER FAMILIES         Budget            160794.85                 4641   \n",
       "YOUNG SINGLES/COUPLES  Mainstream        149441.20                 7955   \n",
       "RETIREES               Mainstream        148210.65                 6421   \n",
       "YOUNG FAMILIES         Budget            132710.75                 3980   \n",
       "OLDER SINGLES/COUPLES  Budget            130190.80                 4892   \n",
       "                       Mainstream        127391.10                 4894   \n",
       "                       Premium           125852.45                 4715   \n",
       "RETIREES               Budget            107644.90                 4419   \n",
       "OLDER FAMILIES         Mainstream         98738.25                 2808   \n",
       "RETIREES               Premium            92785.75                 3835   \n",
       "YOUNG FAMILIES         Mainstream         88678.15                 2702   \n",
       "MIDAGE SINGLES/COUPLES Mainstream         85928.25                 3308   \n",
       "YOUNG FAMILIES         Premium            80292.30                 2422   \n",
       "OLDER FAMILIES         Premium            77129.20                 2252   \n",
       "YOUNG SINGLES/COUPLES  Budget             58550.80                 3735   \n",
       "MIDAGE SINGLES/COUPLES Premium            55836.75                 2405   \n",
       "YOUNG SINGLES/COUPLES  Premium            39969.30                 2542   \n",
       "MIDAGE SINGLES/COUPLES Budget             34122.50                 1497   \n",
       "NEW FAMILIES           Budget             20898.25                 1100   \n",
       "                       Mainstream         16208.10                  840   \n",
       "                       Premium            10955.60                  581   \n",
       "\n",
       "                                         avg_sales  \n",
       "LIFESTAGE              PREMIUM_CUSTOMER             \n",
       "OLDER FAMILIES         Budget            34.646596  \n",
       "YOUNG SINGLES/COUPLES  Mainstream        18.785820  \n",
       "RETIREES               Mainstream        23.082176  \n",
       "YOUNG FAMILIES         Budget            33.344410  \n",
       "OLDER SINGLES/COUPLES  Budget            26.613001  \n",
       "                       Mainstream        26.030057  \n",
       "                       Premium           26.691930  \n",
       "RETIREES               Budget            24.359561  \n",
       "OLDER FAMILIES         Mainstream        35.163194  \n",
       "RETIREES               Premium           24.194459  \n",
       "YOUNG FAMILIES         Mainstream        32.819449  \n",
       "MIDAGE SINGLES/COUPLES Mainstream        25.975892  \n",
       "YOUNG FAMILIES         Premium           33.151239  \n",
       "OLDER FAMILIES         Premium           34.249201  \n",
       "YOUNG SINGLES/COUPLES  Budget            15.676252  \n",
       "MIDAGE SINGLES/COUPLES Premium           23.216944  \n",
       "YOUNG SINGLES/COUPLES  Premium           15.723564  \n",
       "MIDAGE SINGLES/COUPLES Budget            22.793921  \n",
       "NEW FAMILIES           Budget            18.998409  \n",
       "                       Mainstream        19.295357  \n",
       "                       Premium           18.856454  "
      ]
     },
     "execution_count": 44,
     "metadata": {},
     "output_type": "execute_result"
    }
   ],
   "source": [
    "total=Total_dataset.groupby(['LIFESTAGE','PREMIUM_CUSTOMER']).agg({'TOT_SALES':'sum','LYLTY_CARD_NBR':'nunique'}).rename(columns={'LYLTY_CARD_NBR':'number_of_customers'})\n",
    "total['avg_sales']=total['TOT_SALES']/total['number_of_customers']\n",
    "total=total.sort_values(by='TOT_SALES',ascending=False)\n",
    "total"
   ]
  },
  {
   "cell_type": "markdown",
   "id": "2d8eb113",
   "metadata": {},
   "source": [
    "### TOT_SALES is the highest for older families on budget as their product quantity purchased is the highest and this is veary reasonable."
   ]
  },
  {
   "cell_type": "code",
   "execution_count": 45,
   "id": "908c4af0",
   "metadata": {},
   "outputs": [
    {
     "data": {
      "text/html": [
       "<div>\n",
       "<style scoped>\n",
       "    .dataframe tbody tr th:only-of-type {\n",
       "        vertical-align: middle;\n",
       "    }\n",
       "\n",
       "    .dataframe tbody tr th {\n",
       "        vertical-align: top;\n",
       "    }\n",
       "\n",
       "    .dataframe thead th {\n",
       "        text-align: right;\n",
       "    }\n",
       "</style>\n",
       "<table border=\"1\" class=\"dataframe\">\n",
       "  <thead>\n",
       "    <tr style=\"text-align: right;\">\n",
       "      <th></th>\n",
       "      <th></th>\n",
       "      <th>TOT_SALES</th>\n",
       "      <th>number_of_customers</th>\n",
       "      <th>avg_sales</th>\n",
       "    </tr>\n",
       "    <tr>\n",
       "      <th>LIFESTAGE</th>\n",
       "      <th>PREMIUM_CUSTOMER</th>\n",
       "      <th></th>\n",
       "      <th></th>\n",
       "      <th></th>\n",
       "    </tr>\n",
       "  </thead>\n",
       "  <tbody>\n",
       "    <tr>\n",
       "      <th>YOUNG SINGLES/COUPLES</th>\n",
       "      <th>Mainstream</th>\n",
       "      <td>149441.20</td>\n",
       "      <td>7955</td>\n",
       "      <td>18.785820</td>\n",
       "    </tr>\n",
       "    <tr>\n",
       "      <th>RETIREES</th>\n",
       "      <th>Mainstream</th>\n",
       "      <td>148210.65</td>\n",
       "      <td>6421</td>\n",
       "      <td>23.082176</td>\n",
       "    </tr>\n",
       "    <tr>\n",
       "      <th rowspan=\"3\" valign=\"top\">OLDER SINGLES/COUPLES</th>\n",
       "      <th>Mainstream</th>\n",
       "      <td>127391.10</td>\n",
       "      <td>4894</td>\n",
       "      <td>26.030057</td>\n",
       "    </tr>\n",
       "    <tr>\n",
       "      <th>Budget</th>\n",
       "      <td>130190.80</td>\n",
       "      <td>4892</td>\n",
       "      <td>26.613001</td>\n",
       "    </tr>\n",
       "    <tr>\n",
       "      <th>Premium</th>\n",
       "      <td>125852.45</td>\n",
       "      <td>4715</td>\n",
       "      <td>26.691930</td>\n",
       "    </tr>\n",
       "    <tr>\n",
       "      <th>OLDER FAMILIES</th>\n",
       "      <th>Budget</th>\n",
       "      <td>160794.85</td>\n",
       "      <td>4641</td>\n",
       "      <td>34.646596</td>\n",
       "    </tr>\n",
       "    <tr>\n",
       "      <th>RETIREES</th>\n",
       "      <th>Budget</th>\n",
       "      <td>107644.90</td>\n",
       "      <td>4419</td>\n",
       "      <td>24.359561</td>\n",
       "    </tr>\n",
       "    <tr>\n",
       "      <th>YOUNG FAMILIES</th>\n",
       "      <th>Budget</th>\n",
       "      <td>132710.75</td>\n",
       "      <td>3980</td>\n",
       "      <td>33.344410</td>\n",
       "    </tr>\n",
       "    <tr>\n",
       "      <th>RETIREES</th>\n",
       "      <th>Premium</th>\n",
       "      <td>92785.75</td>\n",
       "      <td>3835</td>\n",
       "      <td>24.194459</td>\n",
       "    </tr>\n",
       "    <tr>\n",
       "      <th>YOUNG SINGLES/COUPLES</th>\n",
       "      <th>Budget</th>\n",
       "      <td>58550.80</td>\n",
       "      <td>3735</td>\n",
       "      <td>15.676252</td>\n",
       "    </tr>\n",
       "    <tr>\n",
       "      <th>MIDAGE SINGLES/COUPLES</th>\n",
       "      <th>Mainstream</th>\n",
       "      <td>85928.25</td>\n",
       "      <td>3308</td>\n",
       "      <td>25.975892</td>\n",
       "    </tr>\n",
       "    <tr>\n",
       "      <th>OLDER FAMILIES</th>\n",
       "      <th>Mainstream</th>\n",
       "      <td>98738.25</td>\n",
       "      <td>2808</td>\n",
       "      <td>35.163194</td>\n",
       "    </tr>\n",
       "    <tr>\n",
       "      <th>YOUNG FAMILIES</th>\n",
       "      <th>Mainstream</th>\n",
       "      <td>88678.15</td>\n",
       "      <td>2702</td>\n",
       "      <td>32.819449</td>\n",
       "    </tr>\n",
       "    <tr>\n",
       "      <th>YOUNG SINGLES/COUPLES</th>\n",
       "      <th>Premium</th>\n",
       "      <td>39969.30</td>\n",
       "      <td>2542</td>\n",
       "      <td>15.723564</td>\n",
       "    </tr>\n",
       "    <tr>\n",
       "      <th>YOUNG FAMILIES</th>\n",
       "      <th>Premium</th>\n",
       "      <td>80292.30</td>\n",
       "      <td>2422</td>\n",
       "      <td>33.151239</td>\n",
       "    </tr>\n",
       "    <tr>\n",
       "      <th>MIDAGE SINGLES/COUPLES</th>\n",
       "      <th>Premium</th>\n",
       "      <td>55836.75</td>\n",
       "      <td>2405</td>\n",
       "      <td>23.216944</td>\n",
       "    </tr>\n",
       "    <tr>\n",
       "      <th>OLDER FAMILIES</th>\n",
       "      <th>Premium</th>\n",
       "      <td>77129.20</td>\n",
       "      <td>2252</td>\n",
       "      <td>34.249201</td>\n",
       "    </tr>\n",
       "    <tr>\n",
       "      <th>MIDAGE SINGLES/COUPLES</th>\n",
       "      <th>Budget</th>\n",
       "      <td>34122.50</td>\n",
       "      <td>1497</td>\n",
       "      <td>22.793921</td>\n",
       "    </tr>\n",
       "    <tr>\n",
       "      <th rowspan=\"3\" valign=\"top\">NEW FAMILIES</th>\n",
       "      <th>Budget</th>\n",
       "      <td>20898.25</td>\n",
       "      <td>1100</td>\n",
       "      <td>18.998409</td>\n",
       "    </tr>\n",
       "    <tr>\n",
       "      <th>Mainstream</th>\n",
       "      <td>16208.10</td>\n",
       "      <td>840</td>\n",
       "      <td>19.295357</td>\n",
       "    </tr>\n",
       "    <tr>\n",
       "      <th>Premium</th>\n",
       "      <td>10955.60</td>\n",
       "      <td>581</td>\n",
       "      <td>18.856454</td>\n",
       "    </tr>\n",
       "  </tbody>\n",
       "</table>\n",
       "</div>"
      ],
      "text/plain": [
       "                                         TOT_SALES  number_of_customers  \\\n",
       "LIFESTAGE              PREMIUM_CUSTOMER                                   \n",
       "YOUNG SINGLES/COUPLES  Mainstream        149441.20                 7955   \n",
       "RETIREES               Mainstream        148210.65                 6421   \n",
       "OLDER SINGLES/COUPLES  Mainstream        127391.10                 4894   \n",
       "                       Budget            130190.80                 4892   \n",
       "                       Premium           125852.45                 4715   \n",
       "OLDER FAMILIES         Budget            160794.85                 4641   \n",
       "RETIREES               Budget            107644.90                 4419   \n",
       "YOUNG FAMILIES         Budget            132710.75                 3980   \n",
       "RETIREES               Premium            92785.75                 3835   \n",
       "YOUNG SINGLES/COUPLES  Budget             58550.80                 3735   \n",
       "MIDAGE SINGLES/COUPLES Mainstream         85928.25                 3308   \n",
       "OLDER FAMILIES         Mainstream         98738.25                 2808   \n",
       "YOUNG FAMILIES         Mainstream         88678.15                 2702   \n",
       "YOUNG SINGLES/COUPLES  Premium            39969.30                 2542   \n",
       "YOUNG FAMILIES         Premium            80292.30                 2422   \n",
       "MIDAGE SINGLES/COUPLES Premium            55836.75                 2405   \n",
       "OLDER FAMILIES         Premium            77129.20                 2252   \n",
       "MIDAGE SINGLES/COUPLES Budget             34122.50                 1497   \n",
       "NEW FAMILIES           Budget             20898.25                 1100   \n",
       "                       Mainstream         16208.10                  840   \n",
       "                       Premium            10955.60                  581   \n",
       "\n",
       "                                         avg_sales  \n",
       "LIFESTAGE              PREMIUM_CUSTOMER             \n",
       "YOUNG SINGLES/COUPLES  Mainstream        18.785820  \n",
       "RETIREES               Mainstream        23.082176  \n",
       "OLDER SINGLES/COUPLES  Mainstream        26.030057  \n",
       "                       Budget            26.613001  \n",
       "                       Premium           26.691930  \n",
       "OLDER FAMILIES         Budget            34.646596  \n",
       "RETIREES               Budget            24.359561  \n",
       "YOUNG FAMILIES         Budget            33.344410  \n",
       "RETIREES               Premium           24.194459  \n",
       "YOUNG SINGLES/COUPLES  Budget            15.676252  \n",
       "MIDAGE SINGLES/COUPLES Mainstream        25.975892  \n",
       "OLDER FAMILIES         Mainstream        35.163194  \n",
       "YOUNG FAMILIES         Mainstream        32.819449  \n",
       "YOUNG SINGLES/COUPLES  Premium           15.723564  \n",
       "YOUNG FAMILIES         Premium           33.151239  \n",
       "MIDAGE SINGLES/COUPLES Premium           23.216944  \n",
       "OLDER FAMILIES         Premium           34.249201  \n",
       "MIDAGE SINGLES/COUPLES Budget            22.793921  \n",
       "NEW FAMILIES           Budget            18.998409  \n",
       "                       Mainstream        19.295357  \n",
       "                       Premium           18.856454  "
      ]
     },
     "execution_count": 45,
     "metadata": {},
     "output_type": "execute_result"
    }
   ],
   "source": [
    "total.sort_values(by='number_of_customers',ascending=False)"
   ]
  },
  {
   "cell_type": "markdown",
   "id": "4502939b",
   "metadata": {},
   "source": [
    "## Number of young single/couples mainstream customers is the highest which would make them a favourite segment as their total sales is the highest behind older on budget families!"
   ]
  },
  {
   "cell_type": "markdown",
   "id": "a028bb52",
   "metadata": {},
   "source": [
    "### Diving deeper to see more details about mainstream young single/couples"
   ]
  },
  {
   "cell_type": "code",
   "execution_count": 46,
   "id": "2a9deaac",
   "metadata": {},
   "outputs": [
    {
     "data": {
      "text/html": [
       "<div>\n",
       "<style scoped>\n",
       "    .dataframe tbody tr th:only-of-type {\n",
       "        vertical-align: middle;\n",
       "    }\n",
       "\n",
       "    .dataframe tbody tr th {\n",
       "        vertical-align: top;\n",
       "    }\n",
       "\n",
       "    .dataframe thead th {\n",
       "        text-align: right;\n",
       "    }\n",
       "</style>\n",
       "<table border=\"1\" class=\"dataframe\">\n",
       "  <thead>\n",
       "    <tr style=\"text-align: right;\">\n",
       "      <th></th>\n",
       "      <th></th>\n",
       "      <th>AVG_UNITPRICE</th>\n",
       "    </tr>\n",
       "    <tr>\n",
       "      <th>LIFESTAGE</th>\n",
       "      <th>PREMIUM_CUSTOMER</th>\n",
       "      <th></th>\n",
       "    </tr>\n",
       "  </thead>\n",
       "  <tbody>\n",
       "    <tr>\n",
       "      <th rowspan=\"3\" valign=\"top\">YOUNG SINGLES/COUPLES</th>\n",
       "      <th>Budget</th>\n",
       "      <td>6.532500</td>\n",
       "    </tr>\n",
       "    <tr>\n",
       "      <th>Mainstream</th>\n",
       "      <td>7.476920</td>\n",
       "    </tr>\n",
       "    <tr>\n",
       "      <th>Premium</th>\n",
       "      <td>6.549123</td>\n",
       "    </tr>\n",
       "  </tbody>\n",
       "</table>\n",
       "</div>"
      ],
      "text/plain": [
       "                                        AVG_UNITPRICE\n",
       "LIFESTAGE             PREMIUM_CUSTOMER               \n",
       "YOUNG SINGLES/COUPLES Budget                 6.532500\n",
       "                      Mainstream             7.476920\n",
       "                      Premium                6.549123"
      ]
     },
     "execution_count": 46,
     "metadata": {},
     "output_type": "execute_result"
    }
   ],
   "source": [
    "Young_sin_coup=Total_dataset[Total_dataset['LIFESTAGE']=='YOUNG SINGLES/COUPLES']\n",
    "Young_sin_coup.groupby(['LIFESTAGE','PREMIUM_CUSTOMER']).agg({'TOT_SALES':'mean'}).rename(columns={'TOT_SALES':'AVG_UNITPRICE'})"
   ]
  },
  {
   "cell_type": "markdown",
   "id": "ef24b2b8",
   "metadata": {},
   "source": [
    "### Preparing data for conducting a t test to see if the difference in mean between groups is statistically significant"
   ]
  },
  {
   "cell_type": "code",
   "execution_count": 47,
   "id": "3d2885bc",
   "metadata": {},
   "outputs": [
    {
     "data": {
      "text/html": [
       "<div>\n",
       "<style scoped>\n",
       "    .dataframe tbody tr th:only-of-type {\n",
       "        vertical-align: middle;\n",
       "    }\n",
       "\n",
       "    .dataframe tbody tr th {\n",
       "        vertical-align: top;\n",
       "    }\n",
       "\n",
       "    .dataframe thead th {\n",
       "        text-align: right;\n",
       "    }\n",
       "</style>\n",
       "<table border=\"1\" class=\"dataframe\">\n",
       "  <thead>\n",
       "    <tr style=\"text-align: right;\">\n",
       "      <th></th>\n",
       "      <th>DATE</th>\n",
       "      <th>STORE_NBR</th>\n",
       "      <th>LYLTY_CARD_NBR</th>\n",
       "      <th>TXN_ID</th>\n",
       "      <th>PROD_NBR</th>\n",
       "      <th>PROD_NAME</th>\n",
       "      <th>PROD_QTY</th>\n",
       "      <th>TOT_SALES</th>\n",
       "      <th>pack_size</th>\n",
       "      <th>company</th>\n",
       "      <th>LIFESTAGE</th>\n",
       "      <th>PREMIUM_CUSTOMER</th>\n",
       "    </tr>\n",
       "  </thead>\n",
       "  <tbody>\n",
       "    <tr>\n",
       "      <th>0</th>\n",
       "      <td>2018-10-17</td>\n",
       "      <td>1</td>\n",
       "      <td>1000</td>\n",
       "      <td>1</td>\n",
       "      <td>5</td>\n",
       "      <td>Natural Chip        Compny SeaSalt175g</td>\n",
       "      <td>2</td>\n",
       "      <td>6.0</td>\n",
       "      <td>175</td>\n",
       "      <td>Natural</td>\n",
       "      <td>YOUNG SINGLES/COUPLES</td>\n",
       "      <td>Premium</td>\n",
       "    </tr>\n",
       "    <tr>\n",
       "      <th>220458</th>\n",
       "      <td>2018-11-09</td>\n",
       "      <td>77</td>\n",
       "      <td>2330311</td>\n",
       "      <td>236755</td>\n",
       "      <td>90</td>\n",
       "      <td>Tostitos Smoked     Chipotle 175g</td>\n",
       "      <td>1</td>\n",
       "      <td>4.4</td>\n",
       "      <td>175</td>\n",
       "      <td>Tostitos</td>\n",
       "      <td>YOUNG SINGLES/COUPLES</td>\n",
       "      <td>Budget</td>\n",
       "    </tr>\n",
       "    <tr>\n",
       "      <th>220459</th>\n",
       "      <td>2019-05-16</td>\n",
       "      <td>1</td>\n",
       "      <td>1076</td>\n",
       "      <td>87</td>\n",
       "      <td>107</td>\n",
       "      <td>Smiths Crinkle Cut  French OnionDip 150g</td>\n",
       "      <td>1</td>\n",
       "      <td>2.6</td>\n",
       "      <td>150</td>\n",
       "      <td>Tostitos</td>\n",
       "      <td>YOUNG SINGLES/COUPLES</td>\n",
       "      <td>Budget</td>\n",
       "    </tr>\n",
       "    <tr>\n",
       "      <th>220460</th>\n",
       "      <td>2019-05-17</td>\n",
       "      <td>1</td>\n",
       "      <td>1165</td>\n",
       "      <td>192</td>\n",
       "      <td>12</td>\n",
       "      <td>Natural Chip Co     Tmato Hrb&amp;Spce 175g</td>\n",
       "      <td>1</td>\n",
       "      <td>3.0</td>\n",
       "      <td>175</td>\n",
       "      <td>Natural</td>\n",
       "      <td>YOUNG SINGLES/COUPLES</td>\n",
       "      <td>Budget</td>\n",
       "    </tr>\n",
       "    <tr>\n",
       "      <th>220461</th>\n",
       "      <td>2018-08-16</td>\n",
       "      <td>1</td>\n",
       "      <td>1282</td>\n",
       "      <td>319</td>\n",
       "      <td>67</td>\n",
       "      <td>RRD Chilli&amp;         Coconut 150g</td>\n",
       "      <td>1</td>\n",
       "      <td>2.7</td>\n",
       "      <td>150</td>\n",
       "      <td>Natural</td>\n",
       "      <td>YOUNG SINGLES/COUPLES</td>\n",
       "      <td>Budget</td>\n",
       "    </tr>\n",
       "  </tbody>\n",
       "</table>\n",
       "</div>"
      ],
      "text/plain": [
       "             DATE  STORE_NBR  LYLTY_CARD_NBR  TXN_ID  PROD_NBR  \\\n",
       "0      2018-10-17          1            1000       1         5   \n",
       "220458 2018-11-09         77         2330311  236755        90   \n",
       "220459 2019-05-16          1            1076      87       107   \n",
       "220460 2019-05-17          1            1165     192        12   \n",
       "220461 2018-08-16          1            1282     319        67   \n",
       "\n",
       "                                       PROD_NAME  PROD_QTY  TOT_SALES  \\\n",
       "0         Natural Chip        Compny SeaSalt175g         2        6.0   \n",
       "220458         Tostitos Smoked     Chipotle 175g         1        4.4   \n",
       "220459  Smiths Crinkle Cut  French OnionDip 150g         1        2.6   \n",
       "220460   Natural Chip Co     Tmato Hrb&Spce 175g         1        3.0   \n",
       "220461          RRD Chilli&         Coconut 150g         1        2.7   \n",
       "\n",
       "       pack_size   company              LIFESTAGE PREMIUM_CUSTOMER  \n",
       "0            175   Natural  YOUNG SINGLES/COUPLES          Premium  \n",
       "220458       175  Tostitos  YOUNG SINGLES/COUPLES           Budget  \n",
       "220459       150  Tostitos  YOUNG SINGLES/COUPLES           Budget  \n",
       "220460       175   Natural  YOUNG SINGLES/COUPLES           Budget  \n",
       "220461       150   Natural  YOUNG SINGLES/COUPLES           Budget  "
      ]
     },
     "execution_count": 47,
     "metadata": {},
     "output_type": "execute_result"
    }
   ],
   "source": [
    "Young_sin_coup.head()"
   ]
  },
  {
   "cell_type": "code",
   "execution_count": 48,
   "id": "ae57269e",
   "metadata": {},
   "outputs": [
    {
     "data": {
      "text/plain": [
       "Group1    19987\n",
       "Group2    15066\n",
       "Name: ttest, dtype: int64"
      ]
     },
     "execution_count": 48,
     "metadata": {},
     "output_type": "execute_result"
    }
   ],
   "source": [
    "def fun(row):\n",
    "    \"\"\"\" A function for getting our groups that will be used in the t test\"\"\"\n",
    "    if row['PREMIUM_CUSTOMER']== 'Mainstream':\n",
    "        val='Group1'\n",
    "    else:\n",
    "        val='Group2'\n",
    "    return val\n",
    "    \n",
    "Young_sin_coup['ttest']=Young_sin_coup.apply(fun ,axis=1 )\n",
    "Young_sin_coup['ttest'].value_counts()"
   ]
  },
  {
   "cell_type": "code",
   "execution_count": 49,
   "id": "44d14241",
   "metadata": {},
   "outputs": [
    {
     "name": "stdout",
     "output_type": "stream",
     "text": [
      "6.226891639319398 7.109153309490633\n"
     ]
    }
   ],
   "source": [
    "fgroup=Young_sin_coup[Young_sin_coup['ttest']=='Group1']\n",
    "fgroup=fgroup['TOT_SALES'].values\n",
    "sgroup=Young_sin_coup[Young_sin_coup['ttest']=='Group2']\n",
    "sgroup=sgroup['TOT_SALES'].values\n",
    "#checking variances of the two groups\n",
    "print(np.var(fgroup),np.var(sgroup))"
   ]
  },
  {
   "cell_type": "code",
   "execution_count": 50,
   "id": "363abfbb",
   "metadata": {},
   "outputs": [
    {
     "data": {
      "text/plain": [
       "<Axes: ylabel='Count'>"
      ]
     },
     "execution_count": 50,
     "metadata": {},
     "output_type": "execute_result"
    },
    {
     "data": {
      "image/png": "[encoded data removed]",
      "text/plain": [
       "<Figure size 432x288 with 1 Axes>"
      ]
     },
     "metadata": {
      "needs_background": "light"
     },
     "output_type": "display_data"
    }
   ],
   "source": [
    "#Checking for normalization assumption\n",
    "sns.histplot(sgroup)\n"
   ]
  },
  {
   "cell_type": "code",
   "execution_count": 51,
   "id": "414e04f6",
   "metadata": {},
   "outputs": [
    {
     "data": {
      "text/plain": [
       "<Axes: ylabel='Count'>"
      ]
     },
     "execution_count": 51,
     "metadata": {},
     "output_type": "execute_result"
    },
    {
     "data": {
      "image/png": "[encoded data removed]",
      "text/plain": [
       "<Figure size 432x288 with 1 Axes>"
      ]
     },
     "metadata": {
      "needs_background": "light"
     },
     "output_type": "display_data"
    }
   ],
   "source": [
    "sns.histplot(fgroup)"
   ]
  },
  {
   "cell_type": "code",
   "execution_count": 52,
   "id": "a67a7c17",
   "metadata": {},
   "outputs": [
    {
     "data": {
      "text/plain": [
       "Ttest_indResult(statistic=33.812934643767264, pvalue=1.1884071158861187e-246)"
      ]
     },
     "execution_count": 52,
     "metadata": {},
     "output_type": "execute_result"
    }
   ],
   "source": [
    "import scipy.stats as stats\n",
    "stats.ttest_ind(a=fgroup,b=sgroup,equal_var=True)"
   ]
  },
  {
   "cell_type": "markdown",
   "id": "29f950eb",
   "metadata": {},
   "source": [
    "#### Since p_value<0.05, therefore there's a statistically significant difference in means between mainstream group and the other group"
   ]
  },
  {
   "cell_type": "code",
   "execution_count": 53,
   "id": "57cd695e",
   "metadata": {},
   "outputs": [
    {
     "data": {
      "text/html": [
       "<div>\n",
       "<style scoped>\n",
       "    .dataframe tbody tr th:only-of-type {\n",
       "        vertical-align: middle;\n",
       "    }\n",
       "\n",
       "    .dataframe tbody tr th {\n",
       "        vertical-align: top;\n",
       "    }\n",
       "\n",
       "    .dataframe thead th {\n",
       "        text-align: right;\n",
       "    }\n",
       "</style>\n",
       "<table border=\"1\" class=\"dataframe\">\n",
       "  <thead>\n",
       "    <tr style=\"text-align: right;\">\n",
       "      <th></th>\n",
       "      <th>DATE</th>\n",
       "      <th>STORE_NBR</th>\n",
       "      <th>LYLTY_CARD_NBR</th>\n",
       "      <th>TXN_ID</th>\n",
       "      <th>PROD_NBR</th>\n",
       "      <th>PROD_NAME</th>\n",
       "      <th>PROD_QTY</th>\n",
       "      <th>TOT_SALES</th>\n",
       "      <th>pack_size</th>\n",
       "      <th>company</th>\n",
       "      <th>LIFESTAGE</th>\n",
       "      <th>PREMIUM_CUSTOMER</th>\n",
       "      <th>ttest</th>\n",
       "    </tr>\n",
       "  </thead>\n",
       "  <tbody>\n",
       "    <tr>\n",
       "      <th>0</th>\n",
       "      <td>2018-08-16</td>\n",
       "      <td>1</td>\n",
       "      <td>1020</td>\n",
       "      <td>26</td>\n",
       "      <td>19</td>\n",
       "      <td>Smiths Crinkle Cut  Snag&amp;Sauce 150g</td>\n",
       "      <td>1</td>\n",
       "      <td>2.6</td>\n",
       "      <td>150</td>\n",
       "      <td>Kettle</td>\n",
       "      <td>YOUNG SINGLES/COUPLES</td>\n",
       "      <td>Mainstream</td>\n",
       "      <td>Group1</td>\n",
       "    </tr>\n",
       "    <tr>\n",
       "      <th>1</th>\n",
       "      <td>2018-10-02</td>\n",
       "      <td>1</td>\n",
       "      <td>1020</td>\n",
       "      <td>27</td>\n",
       "      <td>7</td>\n",
       "      <td>Smiths Crinkle      Original 330g</td>\n",
       "      <td>1</td>\n",
       "      <td>5.7</td>\n",
       "      <td>330</td>\n",
       "      <td>Kettle</td>\n",
       "      <td>YOUNG SINGLES/COUPLES</td>\n",
       "      <td>Mainstream</td>\n",
       "      <td>Group1</td>\n",
       "    </tr>\n",
       "    <tr>\n",
       "      <th>2</th>\n",
       "      <td>2019-05-02</td>\n",
       "      <td>1</td>\n",
       "      <td>1020</td>\n",
       "      <td>28</td>\n",
       "      <td>84</td>\n",
       "      <td>GrnWves Plus Btroot &amp; Chilli Jam 180g</td>\n",
       "      <td>1</td>\n",
       "      <td>3.1</td>\n",
       "      <td>180</td>\n",
       "      <td>Kettle</td>\n",
       "      <td>YOUNG SINGLES/COUPLES</td>\n",
       "      <td>Mainstream</td>\n",
       "      <td>Group1</td>\n",
       "    </tr>\n",
       "    <tr>\n",
       "      <th>3</th>\n",
       "      <td>2018-08-17</td>\n",
       "      <td>1</td>\n",
       "      <td>1163</td>\n",
       "      <td>188</td>\n",
       "      <td>46</td>\n",
       "      <td>Kettle Original 175g</td>\n",
       "      <td>1</td>\n",
       "      <td>5.4</td>\n",
       "      <td>175</td>\n",
       "      <td>Kettle</td>\n",
       "      <td>YOUNG SINGLES/COUPLES</td>\n",
       "      <td>Mainstream</td>\n",
       "      <td>Group1</td>\n",
       "    </tr>\n",
       "    <tr>\n",
       "      <th>4</th>\n",
       "      <td>2019-02-07</td>\n",
       "      <td>1</td>\n",
       "      <td>1163</td>\n",
       "      <td>189</td>\n",
       "      <td>12</td>\n",
       "      <td>Natural Chip Co     Tmato Hrb&amp;Spce 175g</td>\n",
       "      <td>1</td>\n",
       "      <td>3.0</td>\n",
       "      <td>175</td>\n",
       "      <td>Natural</td>\n",
       "      <td>YOUNG SINGLES/COUPLES</td>\n",
       "      <td>Mainstream</td>\n",
       "      <td>Group1</td>\n",
       "    </tr>\n",
       "  </tbody>\n",
       "</table>\n",
       "</div>"
      ],
      "text/plain": [
       "        DATE  STORE_NBR  LYLTY_CARD_NBR  TXN_ID  PROD_NBR  \\\n",
       "0 2018-08-16          1            1020      26        19   \n",
       "1 2018-10-02          1            1020      27         7   \n",
       "2 2019-05-02          1            1020      28        84   \n",
       "3 2018-08-17          1            1163     188        46   \n",
       "4 2019-02-07          1            1163     189        12   \n",
       "\n",
       "                                 PROD_NAME  PROD_QTY  TOT_SALES pack_size  \\\n",
       "0      Smiths Crinkle Cut  Snag&Sauce 150g         1        2.6       150   \n",
       "1        Smiths Crinkle      Original 330g         1        5.7       330   \n",
       "2    GrnWves Plus Btroot & Chilli Jam 180g         1        3.1       180   \n",
       "3                     Kettle Original 175g         1        5.4       175   \n",
       "4  Natural Chip Co     Tmato Hrb&Spce 175g         1        3.0       175   \n",
       "\n",
       "   company              LIFESTAGE PREMIUM_CUSTOMER   ttest  \n",
       "0   Kettle  YOUNG SINGLES/COUPLES       Mainstream  Group1  \n",
       "1   Kettle  YOUNG SINGLES/COUPLES       Mainstream  Group1  \n",
       "2   Kettle  YOUNG SINGLES/COUPLES       Mainstream  Group1  \n",
       "3   Kettle  YOUNG SINGLES/COUPLES       Mainstream  Group1  \n",
       "4  Natural  YOUNG SINGLES/COUPLES       Mainstream  Group1  "
      ]
     },
     "execution_count": 53,
     "metadata": {},
     "output_type": "execute_result"
    }
   ],
   "source": [
    "Young_mainstreams=Young_sin_coup[Total_dataset['PREMIUM_CUSTOMER']\n",
    "=='Mainstream'].reset_index(drop=True)\n",
    "Young_mainstreams.head()"
   ]
  },
  {
   "cell_type": "code",
   "execution_count": 54,
   "id": "5527211a",
   "metadata": {},
   "outputs": [],
   "source": [
    "#Changing column pack size to integer\n",
    "Young_mainstreams['pack_size']=Young_mainstreams['pack_size'].astype(int)\n"
   ]
  },
  {
   "cell_type": "code",
   "execution_count": 55,
   "id": "20047fa1",
   "metadata": {},
   "outputs": [
    {
     "data": {
      "text/plain": [
       "70       63\n",
       "90      128\n",
       "110    2051\n",
       "125      59\n",
       "134    2315\n",
       "135     290\n",
       "150    3241\n",
       "160     128\n",
       "165    1102\n",
       "170    1575\n",
       "175    4997\n",
       "180      70\n",
       "190     148\n",
       "200     179\n",
       "210     576\n",
       "220      62\n",
       "250     280\n",
       "270     620\n",
       "300     282\n",
       "330    1195\n",
       "380     626\n",
       "Name: pack_size, dtype: int64"
      ]
     },
     "execution_count": 55,
     "metadata": {},
     "output_type": "execute_result"
    }
   ],
   "source": [
    "Young_mainstreams['pack_size'].value_counts().sort_index()"
   ]
  },
  {
   "cell_type": "code",
   "execution_count": 59,
   "id": "63b8b0ef",
   "metadata": {},
   "outputs": [
    {
     "data": {
      "text/plain": [
       "[Text(0, 0, '63'),\n",
       " Text(0, 0, '128'),\n",
       " Text(0, 0, '2051'),\n",
       " Text(0, 0, '59'),\n",
       " Text(0, 0, '2315'),\n",
       " Text(0, 0, '290'),\n",
       " Text(0, 0, '3241'),\n",
       " Text(0, 0, '128'),\n",
       " Text(0, 0, '1102'),\n",
       " Text(0, 0, '1575'),\n",
       " Text(0, 0, '4997'),\n",
       " Text(0, 0, '70'),\n",
       " Text(0, 0, '148'),\n",
       " Text(0, 0, '179'),\n",
       " Text(0, 0, '576'),\n",
       " Text(0, 0, '62'),\n",
       " Text(0, 0, '280'),\n",
       " Text(0, 0, '620'),\n",
       " Text(0, 0, '282'),\n",
       " Text(0, 0, '1195'),\n",
       " Text(0, 0, '626')]"
      ]
     },
     "execution_count": 59,
     "metadata": {},
     "output_type": "execute_result"
    },
    {
     "data": {
      "image/png": "[encoded data removed]",
      "text/plain": [
       "<Figure size 1080x1080 with 1 Axes>"
      ]
     },
     "metadata": {
      "needs_background": "light"
     },
     "output_type": "display_data"
    }
   ],
   "source": [
    "plt.figure(figsize=(15,15))\n",
    "plot=Young_mainstreams['pack_size'].value_counts().sort_index()\n",
    "ax=sns.barplot(y=plot.index,x=plot.values,orient='h')\n",
    "plt.xticks()\n",
    "ax.bar_label(ax.containers[0])\n"
   ]
  },
  {
   "cell_type": "markdown",
   "id": "0c68050d",
   "metadata": {},
   "source": [
    "#### this segment of customers prefer most packsize 175g chips and they tend to prefer smaller sized chips"
   ]
  },
  {
   "cell_type": "code",
   "execution_count": 58,
   "id": "db05e3fe",
   "metadata": {},
   "outputs": [
    {
     "data": {
      "text/plain": [
       "[Text(0, 0, '6087'),\n",
       " Text(0, 0, '3682'),\n",
       " Text(0, 0, '1830'),\n",
       " Text(0, 0, '1446'),\n",
       " Text(0, 0, '1372'),\n",
       " Text(0, 0, '1358'),\n",
       " Text(0, 0, '969'),\n",
       " Text(0, 0, '756'),\n",
       " Text(0, 0, '570'),\n",
       " Text(0, 0, '565'),\n",
       " Text(0, 0, '394'),\n",
       " Text(0, 0, '322'),\n",
       " Text(0, 0, '271'),\n",
       " Text(0, 0, '135'),\n",
       " Text(0, 0, '125'),\n",
       " Text(0, 0, '105')]"
      ]
     },
     "execution_count": 58,
     "metadata": {},
     "output_type": "execute_result"
    },
    {
     "data": {
      "image/png": "[encoded data removed]",
      "text/plain": [
       "<Figure size 1080x1080 with 1 Axes>"
      ]
     },
     "metadata": {
      "needs_background": "light"
     },
     "output_type": "display_data"
    }
   ],
   "source": [
    "#check if there's a favorite company for this segment\n",
    "plt.figure(figsize=(15,15))\n",
    "plot=Young_mainstreams['company'].value_counts()\n",
    "ax=sns.barplot(x=plot.index,y=plot.values)\n",
    "plt.xticks()\n",
    "ax.bar_label(ax.containers[0])"
   ]
  },
  {
   "cell_type": "markdown",
   "id": "3c4447a8",
   "metadata": {},
   "source": [
    "#### This segment seems to prefer kettle and pringles companies the most."
   ]
  },
  {
   "cell_type": "code",
   "execution_count": 55,
   "id": "8b15b121",
   "metadata": {},
   "outputs": [],
   "source": [
    "Total_dataset.to_csv('file11.csv')"
   ]
  }
 ],
 "metadata": {
  "kernelspec": {
   "display_name": "Python 3",
   "language": "python",
   "name": "python3"
  },
  "language_info": {
   "codemirror_mode": {
    "name": "ipython",
    "version": 3
   },
   "file_extension": ".py",
   "mimetype": "text/x-python",
   "name": "python",
   "nbconvert_exporter": "python",
   "pygments_lexer": "ipython3",
   "version": "3.8.8"
  }
 },
 "nbformat": 4,
 "nbformat_minor": 5
}
